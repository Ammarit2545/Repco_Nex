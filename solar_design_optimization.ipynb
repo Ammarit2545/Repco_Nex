{
 "cells": [
  {
   "cell_type": "code",
   "execution_count": 1,
   "id": "e2cfd664",
   "metadata": {},
   "outputs": [],
   "source": [
    "from pyautocad import Autocad, APoint, distance, aDouble\n",
    "from math import pi, atan2, degrees, floor, ceil, sqrt\n",
    "import pandas as pd\n",
    "import numpy as np\n",
    "#Find file name \"acad_aag.chm - ActiveX and VBA Developer’s Guide\"\n",
    "#Find file name \"acadauto.chm - ActiveX and VBA Reference\"\n",
    "#@ Loaction -> \"C:\\Program Files\\Common Files\\Autodesk Shared\""
   ]
  },
  {
   "cell_type": "markdown",
   "id": "081979c9",
   "metadata": {},
   "source": [
    "# Mark the building"
   ]
  },
  {
   "cell_type": "code",
   "execution_count": 3,
   "id": "ec2f788d",
   "metadata": {},
   "outputs": [],
   "source": [
    "def prepare_dataframe(name_df: str, x: list, y: list) -> pd.DataFrame:\n",
    "    \"\"\"\n",
    "    Prepare dataframe the columes are x, y, name\n",
    "    \n",
    "    Args:\n",
    "        df_nmae (str): name of dataframe\n",
    "        x (list): x coordinate of mark\n",
    "        y (list): y coordinate of mark\n",
    "        \n",
    "    Returns:\n",
    "        df_name (pd.DataFrame): prepared dataframe \n",
    "    \"\"\"\n",
    "    name_df = pd.DataFrame()\n",
    "    name_df['x'] = x\n",
    "    name_df['y'] = y\n",
    "\n",
    "    Name = []\n",
    "    for N in range(0,len(name_df)):\n",
    "        Name.append(\"Point_\"+str(N+1))\n",
    "        \n",
    "    name_df['Name'] = Name\n",
    "    \n",
    "    return name_df"
   ]
  },
  {
   "cell_type": "code",
   "execution_count": 4,
   "id": "9b980264",
   "metadata": {},
   "outputs": [],
   "source": [
    "def execute_line_polygon(df: pd.DataFrame,\n",
    "                         col_x: str='x', \n",
    "                         col_y:str ='y')-> object:\n",
    "    \"\"\"add polyline polygon from the Mark\n",
    "\n",
    "    Args:\n",
    "        df (pd.DataFrame): The Dataframe contains x,y coordinate of the polygon\n",
    "        col_x (str): The column name of x coordinate to plot. Defaults to 'x'.\n",
    "        col_y (str): The column name of y coordinate to plot. Defaults to 'y'.\n",
    "        \n",
    "    Returns:\n",
    "        polygond (object): The object of the polygon in AutoCAD\n",
    "    \"\"\"\n",
    "    plot = []\n",
    "    for poly in range(0,len(df)):\n",
    "        plot.append(df[col_x][poly])\n",
    "        plot.append(df[col_y][poly])\n",
    "        plot.append(0)\n",
    "\n",
    "        \n",
    "    plot.append(df[col_x][0])\n",
    "    plot.append(df[col_y][0])\n",
    "    plot.append(0) \n",
    "\n",
    "    polygon = aDouble(plot)\n",
    "\n",
    "    #Execute Line \n",
    "    polygond = acad.model.AddPolyline(polygon)\n",
    "    \n",
    "    return polygond"
   ]
  },
  {
   "cell_type": "code",
   "execution_count": 5,
   "id": "06029ea3",
   "metadata": {},
   "outputs": [],
   "source": [
    "#Input Coordinate \n",
    "\n",
    "x = [743401.40,\n",
    "743402.10,\n",
    "743404.93,\n",
    "743405.18,\n",
    "743454.54,\n",
    "743454.74,\n",
    "743467.68,\n",
    "743467.52,\n",
    "743469.81,\n",
    "743468.70,\n",
    "743415.20,\n",
    "743414.78,\n",
    "]\n",
    "y = [1402964.44,\n",
    "1402984.25,\n",
    "1402984.17,\n",
    "1402992.47,\n",
    "1402989.46,\n",
    "1402991.24,\n",
    "1402990.24,\n",
    "1402984.04,\n",
    "1402983.29,\n",
    "1402972.99,\n",
    "1402977.62,\n",
    "1402962.78,\n",
    "]"
   ]
  },
  {
   "cell_type": "code",
   "execution_count": 6,
   "id": "03092e5c",
   "metadata": {},
   "outputs": [
    {
     "data": {
      "text/html": [
       "<div>\n",
       "<style scoped>\n",
       "    .dataframe tbody tr th:only-of-type {\n",
       "        vertical-align: middle;\n",
       "    }\n",
       "\n",
       "    .dataframe tbody tr th {\n",
       "        vertical-align: top;\n",
       "    }\n",
       "\n",
       "    .dataframe thead th {\n",
       "        text-align: right;\n",
       "    }\n",
       "</style>\n",
       "<table border=\"1\" class=\"dataframe\">\n",
       "  <thead>\n",
       "    <tr style=\"text-align: right;\">\n",
       "      <th></th>\n",
       "      <th>x</th>\n",
       "      <th>y</th>\n",
       "      <th>Name</th>\n",
       "    </tr>\n",
       "  </thead>\n",
       "  <tbody>\n",
       "    <tr>\n",
       "      <th>0</th>\n",
       "      <td>743401.40</td>\n",
       "      <td>1402964.44</td>\n",
       "      <td>Point_1</td>\n",
       "    </tr>\n",
       "    <tr>\n",
       "      <th>1</th>\n",
       "      <td>743402.10</td>\n",
       "      <td>1402984.25</td>\n",
       "      <td>Point_2</td>\n",
       "    </tr>\n",
       "    <tr>\n",
       "      <th>2</th>\n",
       "      <td>743404.93</td>\n",
       "      <td>1402984.17</td>\n",
       "      <td>Point_3</td>\n",
       "    </tr>\n",
       "    <tr>\n",
       "      <th>3</th>\n",
       "      <td>743405.18</td>\n",
       "      <td>1402992.47</td>\n",
       "      <td>Point_4</td>\n",
       "    </tr>\n",
       "    <tr>\n",
       "      <th>4</th>\n",
       "      <td>743454.54</td>\n",
       "      <td>1402989.46</td>\n",
       "      <td>Point_5</td>\n",
       "    </tr>\n",
       "    <tr>\n",
       "      <th>5</th>\n",
       "      <td>743454.74</td>\n",
       "      <td>1402991.24</td>\n",
       "      <td>Point_6</td>\n",
       "    </tr>\n",
       "    <tr>\n",
       "      <th>6</th>\n",
       "      <td>743467.68</td>\n",
       "      <td>1402990.24</td>\n",
       "      <td>Point_7</td>\n",
       "    </tr>\n",
       "    <tr>\n",
       "      <th>7</th>\n",
       "      <td>743467.52</td>\n",
       "      <td>1402984.04</td>\n",
       "      <td>Point_8</td>\n",
       "    </tr>\n",
       "    <tr>\n",
       "      <th>8</th>\n",
       "      <td>743469.81</td>\n",
       "      <td>1402983.29</td>\n",
       "      <td>Point_9</td>\n",
       "    </tr>\n",
       "    <tr>\n",
       "      <th>9</th>\n",
       "      <td>743468.70</td>\n",
       "      <td>1402972.99</td>\n",
       "      <td>Point_10</td>\n",
       "    </tr>\n",
       "    <tr>\n",
       "      <th>10</th>\n",
       "      <td>743415.20</td>\n",
       "      <td>1402977.62</td>\n",
       "      <td>Point_11</td>\n",
       "    </tr>\n",
       "    <tr>\n",
       "      <th>11</th>\n",
       "      <td>743414.78</td>\n",
       "      <td>1402962.78</td>\n",
       "      <td>Point_12</td>\n",
       "    </tr>\n",
       "  </tbody>\n",
       "</table>\n",
       "</div>"
      ],
      "text/plain": [
       "            x           y      Name\n",
       "0   743401.40  1402964.44   Point_1\n",
       "1   743402.10  1402984.25   Point_2\n",
       "2   743404.93  1402984.17   Point_3\n",
       "3   743405.18  1402992.47   Point_4\n",
       "4   743454.54  1402989.46   Point_5\n",
       "5   743454.74  1402991.24   Point_6\n",
       "6   743467.68  1402990.24   Point_7\n",
       "7   743467.52  1402984.04   Point_8\n",
       "8   743469.81  1402983.29   Point_9\n",
       "9   743468.70  1402972.99  Point_10\n",
       "10  743415.20  1402977.62  Point_11\n",
       "11  743414.78  1402962.78  Point_12"
      ]
     },
     "execution_count": 6,
     "metadata": {},
     "output_type": "execute_result"
    }
   ],
   "source": [
    "# Prepare Dataframe of Mark\n",
    "Mark = prepare_dataframe('Mark', x, y)\n",
    "Mark"
   ]
  },
  {
   "cell_type": "code",
   "execution_count": 7,
   "id": "918087ab",
   "metadata": {},
   "outputs": [],
   "source": [
    "#Create Building Drawing as per input\n",
    "polygond = execute_line_polygon(Mark)\n",
    "\n",
    "# The Drawing should be shown in AutoCAD after running this code"
   ]
  },
  {
   "cell_type": "markdown",
   "id": "007b1b35",
   "metadata": {},
   "source": [
    "# Rectangularized the Building"
   ]
  },
  {
   "cell_type": "code",
   "execution_count": 8,
   "id": "c5c3c976",
   "metadata": {},
   "outputs": [],
   "source": [
    "def rotate_polygon(df:pd.DataFrame, polygond:object)-> object:\n",
    "    \"TODO: Generalize the Ref by calculating two consecutive points that has the longest distance\"\n",
    "    \"\"\"Rotate polygon as per Marker\n",
    "    \n",
    "    Args:\n",
    "        Mark (pd.DataFrame): The Dataframe contains x,y coordinate of the polygon\n",
    "        polygond (object): The object of polygon in AutoCAD\n",
    "        \n",
    "    Returns:\n",
    "        polygond (object): The object of rotated polygon in AutoCAD\n",
    "    \"\"\"\n",
    "\n",
    "    #Input Reference to Rotate make SN axis\n",
    "    Ref_1 = 'Point_10' \n",
    "    Ref_2 = 'Point_11'\n",
    "    xaxis = df.x[9] - df.x[10]\n",
    "    yaxis = df.y[9] - df.y[10]\n",
    "    degree = degrees(atan2(yaxis,xaxis))\n",
    "    degree = -degree\n",
    "\n",
    "    #Rotate Building as per Marker\n",
    "    Point =  APoint(df.x[10],df.y[10])\n",
    "    rotated_polygond = polygond.Rotate(Point,pi*degree/180)\n",
    "    \n",
    "    return rotated_polygond"
   ]
  },
  {
   "cell_type": "code",
   "execution_count": 9,
   "id": "c73e9a7c",
   "metadata": {},
   "outputs": [],
   "source": [
    "def record_coordinate_of_polygon()-> pd.DataFrame:\n",
    "    \"\"\"Record coordinate of polygon\n",
    "\n",
    "    Args:\n",
    "        None: The object of polygon in AutoCAD\n",
    "        \n",
    "    Returns:\n",
    "        After_Rotate (pd.DataFrame): The Dataframe contains x,y coordinate of the rotated polygon \n",
    "    \"\"\"\n",
    "    x_rot = []\n",
    "    y_rot = []\n",
    "    for item in acad.iter_objects(\"AcDb2dPolyline\"):\n",
    "        for n in range(0,12):\n",
    "            cor = list(item.Coordinate[n])\n",
    "            x_rot.append(cor[0])\n",
    "            y_rot.append(cor[1])\n",
    "            \n",
    "    After_Rotate = prepare_dataframe('After_Rotate', x_rot, y_rot)\n",
    "    \n",
    "    return After_Rotate"
   ]
  },
  {
   "cell_type": "code",
   "execution_count": 10,
   "id": "9c69e31a",
   "metadata": {},
   "outputs": [],
   "source": [
    "def calculate_axis_of_each_point(df: pd.DataFrame, \n",
    "                                 col_x: str= 'x',\n",
    "                                 col_y: str= 'y')-> pd.DataFrame:\n",
    "    \"\"\"Calculate Axis of each point (In Advance building design may be used)\n",
    "\n",
    "    Args:\n",
    "        df (pd.DataFrame): The DataFrame of polygon\n",
    "\n",
    "    Returns:\n",
    "        df (pd.DataFrame): The DataFrame of polygon with degree of each point\n",
    "    \"\"\"\n",
    "    \n",
    "    deg = []\n",
    "    for d in range(1,len(df)):\n",
    "        xaxis = df[col_x][d] - df[col_x][d-1]\n",
    "        yaxis = df[col_y][d] - df[col_y][d-1]\n",
    "        degree = abs(degrees(atan2(yaxis,xaxis)))\n",
    "        deg.append(degree)\n",
    "        \n",
    "    xaxis = df[col_x][0] - df[col_x][len(df)-1]\n",
    "    yaxis = df[col_y][0] - df[col_y][len(df)-1]\n",
    "    degree = abs(degrees(atan2(yaxis,xaxis)))\n",
    "    deg.append(degree)\n",
    "    df['deg'] = deg\n",
    "    \n",
    "    return df"
   ]
  },
  {
   "cell_type": "code",
   "execution_count": 11,
   "id": "2c5d3628",
   "metadata": {},
   "outputs": [],
   "source": [
    "def calculate_difference_length_of_each_point(df: pd.DataFrame, \n",
    "                                              col_x: str= 'x',\n",
    "                                              col_y: str= 'y')-> pd.DataFrame:\n",
    "    \"\"\"Calculate Difference Legnth of each point \n",
    "\n",
    "    Args:\n",
    "        df (pd.DataFrame): The DataFrame of polygon\n",
    "\n",
    "    Returns:\n",
    "        df (pd.DataFrame): The DataFrame of polygon with difference length of each point\n",
    "    \"\"\"\n",
    "    d_x = []\n",
    "    d_y = []\n",
    "\n",
    "    for d in range(0,len(df)-1):\n",
    "        d_x.append(abs(df[col_x][d+1]-df[col_x][d]))\n",
    "        d_y.append(abs(df[col_y][d+1]-df[col_y][d]))\n",
    "        \n",
    "    d_x.append(abs(df[col_x][0]-df[col_x][len(df)-1]))\n",
    "    d_y.append(abs(df[col_y][0]-df[col_y][len(df)-1]))\n",
    "    df[\"d_x\"] = d_x\n",
    "    df[\"d_y\"] = d_y\n",
    "    \n",
    "    return df"
   ]
  },
  {
   "cell_type": "code",
   "execution_count": 12,
   "id": "fac6824d",
   "metadata": {},
   "outputs": [],
   "source": [
    "def rectangularized_the_building(df: pd.DataFrame, \n",
    "                                 col_x: str= 'x',\n",
    "                                 col_y: str= 'y')-> pd.DataFrame:\n",
    "    \"\"\"Rectangularized the building\n",
    "\n",
    "    Args:\n",
    "        df (pd.DataFrame): The DataFrame of polygon\n",
    "\n",
    "    Returns:\n",
    "        df (pd.DataFrame): The DataFrame of polygon with x,y coordinate of each point properly\n",
    "    \"\"\"\n",
    "    #To adjust building coordinate to be should be building sizing \n",
    "    # (Have to add-on f(x) of not reatangular building)\n",
    "    Nx = []\n",
    "    Ny = []\n",
    "    Nx.append(df[col_x][0])\n",
    "    Ny.append(df[col_y][0])\n",
    "    for a in range(0,len(df)-2):\n",
    "        if df['d_x'][a] < df['d_y'][a]:\n",
    "            Nx.append(df[col_x][a])\n",
    "            Ny.append(df[col_y][a+1])\n",
    "        else:\n",
    "            Nx.append(df[col_x][a+1])\n",
    "            Ny.append(df[col_y][a])\n",
    "\n",
    "    if df['d_x'][len(df)-1] < df['d_y'][len(df)-1]:\n",
    "        Nx.append(df[col_x][0])\n",
    "        Ny.append(df[col_y][len(df)-1])\n",
    "    else:\n",
    "        Nx.append(df[col_x][len(df)-2])\n",
    "        Ny.append(df[col_y][0])\n",
    "        \n",
    "    Proper_Polygon = prepare_dataframe('Proper_Polygon', Nx, Ny)\n",
    "    \n",
    "    return Proper_Polygon"
   ]
  },
  {
   "cell_type": "code",
   "execution_count": 13,
   "id": "89b0fe2a",
   "metadata": {},
   "outputs": [],
   "source": [
    "def prepare_dataframe_of_proper_building(df:pd.DataFrame)-> pd.DataFrame:\n",
    "    \"\"\"Prepare dataframe of proper building\n",
    "\n",
    "    Args:\n",
    "        df (pd.DataFrame): The DataFrame of rotated polygon\n",
    "\n",
    "    Returns:\n",
    "        df (pd.DataFrame): The DataFrame of rotated polygon with additional columns\n",
    "    \"\"\"\n",
    "    \n",
    "    df = calculate_axis_of_each_point(df)\n",
    "    df = calculate_difference_length_of_each_point(df)\n",
    "    df = rectangularized_the_building(df)\n",
    "    \n",
    "    return df"
   ]
  },
  {
   "cell_type": "code",
   "execution_count": 14,
   "id": "0b9bb39c",
   "metadata": {},
   "outputs": [],
   "source": [
    "polygond = rotate_polygon(Mark, polygond)\n",
    "# The Drawing should be rotated in AutoCAD after running this code ot have the longest length of the building in SN axis"
   ]
  },
  {
   "cell_type": "code",
   "execution_count": 15,
   "id": "d1c5d834",
   "metadata": {},
   "outputs": [
    {
     "data": {
      "text/html": [
       "<div>\n",
       "<style scoped>\n",
       "    .dataframe tbody tr th:only-of-type {\n",
       "        vertical-align: middle;\n",
       "    }\n",
       "\n",
       "    .dataframe tbody tr th {\n",
       "        vertical-align: top;\n",
       "    }\n",
       "\n",
       "    .dataframe thead th {\n",
       "        text-align: right;\n",
       "    }\n",
       "</style>\n",
       "<table border=\"1\" class=\"dataframe\">\n",
       "  <thead>\n",
       "    <tr style=\"text-align: right;\">\n",
       "      <th></th>\n",
       "      <th>x</th>\n",
       "      <th>y</th>\n",
       "      <th>Name</th>\n",
       "    </tr>\n",
       "  </thead>\n",
       "  <tbody>\n",
       "    <tr>\n",
       "      <th>0</th>\n",
       "      <td>743402.587766</td>\n",
       "      <td>1.402963e+06</td>\n",
       "      <td>Point_1</td>\n",
       "    </tr>\n",
       "    <tr>\n",
       "      <th>1</th>\n",
       "      <td>743401.577145</td>\n",
       "      <td>1.402983e+06</td>\n",
       "      <td>Point_2</td>\n",
       "    </tr>\n",
       "    <tr>\n",
       "      <th>2</th>\n",
       "      <td>743404.403504</td>\n",
       "      <td>1.402983e+06</td>\n",
       "      <td>Point_3</td>\n",
       "    </tr>\n",
       "    <tr>\n",
       "      <th>3</th>\n",
       "      <td>743403.936949</td>\n",
       "      <td>1.402992e+06</td>\n",
       "      <td>Point_4</td>\n",
       "    </tr>\n",
       "    <tr>\n",
       "      <th>4</th>\n",
       "      <td>743453.372661</td>\n",
       "      <td>1.402993e+06</td>\n",
       "      <td>Point_5</td>\n",
       "    </tr>\n",
       "    <tr>\n",
       "      <th>5</th>\n",
       "      <td>743453.418445</td>\n",
       "      <td>1.402995e+06</td>\n",
       "      <td>Point_6</td>\n",
       "    </tr>\n",
       "    <tr>\n",
       "      <th>6</th>\n",
       "      <td>743466.396478</td>\n",
       "      <td>1.402995e+06</td>\n",
       "      <td>Point_7</td>\n",
       "    </tr>\n",
       "    <tr>\n",
       "      <th>7</th>\n",
       "      <td>743466.771637</td>\n",
       "      <td>1.402989e+06</td>\n",
       "      <td>Point_8</td>\n",
       "    </tr>\n",
       "    <tr>\n",
       "      <th>8</th>\n",
       "      <td>743469.117774</td>\n",
       "      <td>1.402988e+06</td>\n",
       "      <td>Point_9</td>\n",
       "    </tr>\n",
       "    <tr>\n",
       "      <th>9</th>\n",
       "      <td>743468.899971</td>\n",
       "      <td>1.402978e+06</td>\n",
       "      <td>Point_10</td>\n",
       "    </tr>\n",
       "    <tr>\n",
       "      <th>10</th>\n",
       "      <td>743415.200000</td>\n",
       "      <td>1.402978e+06</td>\n",
       "      <td>Point_11</td>\n",
       "    </tr>\n",
       "    <tr>\n",
       "      <th>11</th>\n",
       "      <td>743416.061066</td>\n",
       "      <td>1.402963e+06</td>\n",
       "      <td>Point_12</td>\n",
       "    </tr>\n",
       "  </tbody>\n",
       "</table>\n",
       "</div>"
      ],
      "text/plain": [
       "                x             y      Name\n",
       "0   743402.587766  1.402963e+06   Point_1\n",
       "1   743401.577145  1.402983e+06   Point_2\n",
       "2   743404.403504  1.402983e+06   Point_3\n",
       "3   743403.936949  1.402992e+06   Point_4\n",
       "4   743453.372661  1.402993e+06   Point_5\n",
       "5   743453.418445  1.402995e+06   Point_6\n",
       "6   743466.396478  1.402995e+06   Point_7\n",
       "7   743466.771637  1.402989e+06   Point_8\n",
       "8   743469.117774  1.402988e+06   Point_9\n",
       "9   743468.899971  1.402978e+06  Point_10\n",
       "10  743415.200000  1.402978e+06  Point_11\n",
       "11  743416.061066  1.402963e+06  Point_12"
      ]
     },
     "execution_count": 15,
     "metadata": {},
     "output_type": "execute_result"
    }
   ],
   "source": [
    "After_Rotate = record_coordinate_of_polygon()\n",
    "After_Rotate"
   ]
  },
  {
   "cell_type": "code",
   "execution_count": 16,
   "id": "6f4a5039",
   "metadata": {},
   "outputs": [
    {
     "data": {
      "text/html": [
       "<div>\n",
       "<style scoped>\n",
       "    .dataframe tbody tr th:only-of-type {\n",
       "        vertical-align: middle;\n",
       "    }\n",
       "\n",
       "    .dataframe tbody tr th {\n",
       "        vertical-align: top;\n",
       "    }\n",
       "\n",
       "    .dataframe thead th {\n",
       "        text-align: right;\n",
       "    }\n",
       "</style>\n",
       "<table border=\"1\" class=\"dataframe\">\n",
       "  <thead>\n",
       "    <tr style=\"text-align: right;\">\n",
       "      <th></th>\n",
       "      <th>x</th>\n",
       "      <th>y</th>\n",
       "      <th>Name</th>\n",
       "    </tr>\n",
       "  </thead>\n",
       "  <tbody>\n",
       "    <tr>\n",
       "      <th>0</th>\n",
       "      <td>743402.587766</td>\n",
       "      <td>1.402963e+06</td>\n",
       "      <td>Point_1</td>\n",
       "    </tr>\n",
       "    <tr>\n",
       "      <th>1</th>\n",
       "      <td>743402.587766</td>\n",
       "      <td>1.402983e+06</td>\n",
       "      <td>Point_2</td>\n",
       "    </tr>\n",
       "    <tr>\n",
       "      <th>2</th>\n",
       "      <td>743404.403504</td>\n",
       "      <td>1.402983e+06</td>\n",
       "      <td>Point_3</td>\n",
       "    </tr>\n",
       "    <tr>\n",
       "      <th>3</th>\n",
       "      <td>743404.403504</td>\n",
       "      <td>1.402992e+06</td>\n",
       "      <td>Point_4</td>\n",
       "    </tr>\n",
       "    <tr>\n",
       "      <th>4</th>\n",
       "      <td>743453.372661</td>\n",
       "      <td>1.402992e+06</td>\n",
       "      <td>Point_5</td>\n",
       "    </tr>\n",
       "    <tr>\n",
       "      <th>5</th>\n",
       "      <td>743453.372661</td>\n",
       "      <td>1.402995e+06</td>\n",
       "      <td>Point_6</td>\n",
       "    </tr>\n",
       "    <tr>\n",
       "      <th>6</th>\n",
       "      <td>743466.396478</td>\n",
       "      <td>1.402995e+06</td>\n",
       "      <td>Point_7</td>\n",
       "    </tr>\n",
       "    <tr>\n",
       "      <th>7</th>\n",
       "      <td>743466.396478</td>\n",
       "      <td>1.402989e+06</td>\n",
       "      <td>Point_8</td>\n",
       "    </tr>\n",
       "    <tr>\n",
       "      <th>8</th>\n",
       "      <td>743469.117774</td>\n",
       "      <td>1.402989e+06</td>\n",
       "      <td>Point_9</td>\n",
       "    </tr>\n",
       "    <tr>\n",
       "      <th>9</th>\n",
       "      <td>743469.117774</td>\n",
       "      <td>1.402978e+06</td>\n",
       "      <td>Point_10</td>\n",
       "    </tr>\n",
       "    <tr>\n",
       "      <th>10</th>\n",
       "      <td>743415.200000</td>\n",
       "      <td>1.402978e+06</td>\n",
       "      <td>Point_11</td>\n",
       "    </tr>\n",
       "    <tr>\n",
       "      <th>11</th>\n",
       "      <td>743415.200000</td>\n",
       "      <td>1.402963e+06</td>\n",
       "      <td>Point_12</td>\n",
       "    </tr>\n",
       "  </tbody>\n",
       "</table>\n",
       "</div>"
      ],
      "text/plain": [
       "                x             y      Name\n",
       "0   743402.587766  1.402963e+06   Point_1\n",
       "1   743402.587766  1.402983e+06   Point_2\n",
       "2   743404.403504  1.402983e+06   Point_3\n",
       "3   743404.403504  1.402992e+06   Point_4\n",
       "4   743453.372661  1.402992e+06   Point_5\n",
       "5   743453.372661  1.402995e+06   Point_6\n",
       "6   743466.396478  1.402995e+06   Point_7\n",
       "7   743466.396478  1.402989e+06   Point_8\n",
       "8   743469.117774  1.402989e+06   Point_9\n",
       "9   743469.117774  1.402978e+06  Point_10\n",
       "10  743415.200000  1.402978e+06  Point_11\n",
       "11  743415.200000  1.402963e+06  Point_12"
      ]
     },
     "execution_count": 16,
     "metadata": {},
     "output_type": "execute_result"
    }
   ],
   "source": [
    "Proper_Polygon = prepare_dataframe_of_proper_building(After_Rotate)\n",
    "Proper_Polygon"
   ]
  },
  {
   "cell_type": "markdown",
   "id": "b040eb9d",
   "metadata": {},
   "source": [
    "# Delete non-rectangulatized Building"
   ]
  },
  {
   "cell_type": "code",
   "execution_count": 17,
   "id": "b320355d",
   "metadata": {},
   "outputs": [],
   "source": [
    "def delete_polygon()-> object:\n",
    "      \"\"\"Deleted Prelimary Input \n",
    "\n",
    "      Args:\n",
    "          None: The object of polygon in AutoCAD\n",
    "\n",
    "      Returns:\n",
    "          None: The object of polygon in AutoCAD that has been deleted\n",
    "      \"\"\"\n",
    "      for item in acad.iter_objects():\n",
    "            item.Delete()"
   ]
  },
  {
   "cell_type": "code",
   "execution_count": 18,
   "id": "4644f5a4",
   "metadata": {},
   "outputs": [],
   "source": [
    "delete_polygon()\n",
    "# The Drawing should be deleted in AutoCAD after running this code"
   ]
  },
  {
   "cell_type": "markdown",
   "id": "f419f8e0",
   "metadata": {},
   "source": [
    "# Create proper Building"
   ]
  },
  {
   "cell_type": "code",
   "execution_count": 20,
   "id": "8661470f",
   "metadata": {},
   "outputs": [],
   "source": [
    "polygond = execute_line_polygon(Proper_Polygon, 'x', 'y')\n",
    "# The Drawing should be shown in AutoCAD after running this code"
   ]
  },
  {
   "cell_type": "markdown",
   "id": "1757de2e",
   "metadata": {},
   "source": [
    "# Verify that it is rectangularized"
   ]
  },
  {
   "cell_type": "code",
   "execution_count": 21,
   "id": "456a99bb",
   "metadata": {},
   "outputs": [
    {
     "data": {
      "text/html": [
       "<div>\n",
       "<style scoped>\n",
       "    .dataframe tbody tr th:only-of-type {\n",
       "        vertical-align: middle;\n",
       "    }\n",
       "\n",
       "    .dataframe tbody tr th {\n",
       "        vertical-align: top;\n",
       "    }\n",
       "\n",
       "    .dataframe thead th {\n",
       "        text-align: right;\n",
       "    }\n",
       "</style>\n",
       "<table border=\"1\" class=\"dataframe\">\n",
       "  <thead>\n",
       "    <tr style=\"text-align: right;\">\n",
       "      <th></th>\n",
       "      <th>x</th>\n",
       "      <th>y</th>\n",
       "      <th>Name</th>\n",
       "      <th>deg</th>\n",
       "      <th>d_x</th>\n",
       "      <th>d_y</th>\n",
       "    </tr>\n",
       "  </thead>\n",
       "  <tbody>\n",
       "    <tr>\n",
       "      <th>0</th>\n",
       "      <td>743402.587766</td>\n",
       "      <td>1.402963e+06</td>\n",
       "      <td>Point_1</td>\n",
       "      <td>90.0</td>\n",
       "      <td>0.000000</td>\n",
       "      <td>19.796584</td>\n",
       "    </tr>\n",
       "    <tr>\n",
       "      <th>1</th>\n",
       "      <td>743402.587766</td>\n",
       "      <td>1.402983e+06</td>\n",
       "      <td>Point_2</td>\n",
       "      <td>0.0</td>\n",
       "      <td>1.815738</td>\n",
       "      <td>0.000000</td>\n",
       "    </tr>\n",
       "    <tr>\n",
       "      <th>2</th>\n",
       "      <td>743404.403504</td>\n",
       "      <td>1.402983e+06</td>\n",
       "      <td>Point_3</td>\n",
       "      <td>90.0</td>\n",
       "      <td>0.000000</td>\n",
       "      <td>8.454947</td>\n",
       "    </tr>\n",
       "    <tr>\n",
       "      <th>3</th>\n",
       "      <td>743404.403504</td>\n",
       "      <td>1.402992e+06</td>\n",
       "      <td>Point_4</td>\n",
       "      <td>0.0</td>\n",
       "      <td>48.969157</td>\n",
       "      <td>0.000000</td>\n",
       "    </tr>\n",
       "    <tr>\n",
       "      <th>4</th>\n",
       "      <td>743453.372661</td>\n",
       "      <td>1.402992e+06</td>\n",
       "      <td>Point_5</td>\n",
       "      <td>90.0</td>\n",
       "      <td>0.000000</td>\n",
       "      <td>3.047633</td>\n",
       "    </tr>\n",
       "    <tr>\n",
       "      <th>5</th>\n",
       "      <td>743453.372661</td>\n",
       "      <td>1.402995e+06</td>\n",
       "      <td>Point_6</td>\n",
       "      <td>0.0</td>\n",
       "      <td>13.023817</td>\n",
       "      <td>0.000000</td>\n",
       "    </tr>\n",
       "    <tr>\n",
       "      <th>6</th>\n",
       "      <td>743466.396478</td>\n",
       "      <td>1.402995e+06</td>\n",
       "      <td>Point_7</td>\n",
       "      <td>90.0</td>\n",
       "      <td>0.000000</td>\n",
       "      <td>6.071299</td>\n",
       "    </tr>\n",
       "    <tr>\n",
       "      <th>7</th>\n",
       "      <td>743466.396478</td>\n",
       "      <td>1.402989e+06</td>\n",
       "      <td>Point_8</td>\n",
       "      <td>0.0</td>\n",
       "      <td>2.721296</td>\n",
       "      <td>0.000000</td>\n",
       "    </tr>\n",
       "    <tr>\n",
       "      <th>8</th>\n",
       "      <td>743469.117774</td>\n",
       "      <td>1.402989e+06</td>\n",
       "      <td>Point_9</td>\n",
       "      <td>90.0</td>\n",
       "      <td>0.000000</td>\n",
       "      <td>10.907112</td>\n",
       "    </tr>\n",
       "    <tr>\n",
       "      <th>9</th>\n",
       "      <td>743469.117774</td>\n",
       "      <td>1.402978e+06</td>\n",
       "      <td>Point_10</td>\n",
       "      <td>180.0</td>\n",
       "      <td>53.917774</td>\n",
       "      <td>0.000000</td>\n",
       "    </tr>\n",
       "    <tr>\n",
       "      <th>10</th>\n",
       "      <td>743415.200000</td>\n",
       "      <td>1.402978e+06</td>\n",
       "      <td>Point_11</td>\n",
       "      <td>90.0</td>\n",
       "      <td>0.000000</td>\n",
       "      <td>14.320753</td>\n",
       "    </tr>\n",
       "    <tr>\n",
       "      <th>11</th>\n",
       "      <td>743415.200000</td>\n",
       "      <td>1.402963e+06</td>\n",
       "      <td>Point_12</td>\n",
       "      <td>180.0</td>\n",
       "      <td>12.612234</td>\n",
       "      <td>0.000000</td>\n",
       "    </tr>\n",
       "  </tbody>\n",
       "</table>\n",
       "</div>"
      ],
      "text/plain": [
       "                x             y      Name    deg        d_x        d_y\n",
       "0   743402.587766  1.402963e+06   Point_1   90.0   0.000000  19.796584\n",
       "1   743402.587766  1.402983e+06   Point_2    0.0   1.815738   0.000000\n",
       "2   743404.403504  1.402983e+06   Point_3   90.0   0.000000   8.454947\n",
       "3   743404.403504  1.402992e+06   Point_4    0.0  48.969157   0.000000\n",
       "4   743453.372661  1.402992e+06   Point_5   90.0   0.000000   3.047633\n",
       "5   743453.372661  1.402995e+06   Point_6    0.0  13.023817   0.000000\n",
       "6   743466.396478  1.402995e+06   Point_7   90.0   0.000000   6.071299\n",
       "7   743466.396478  1.402989e+06   Point_8    0.0   2.721296   0.000000\n",
       "8   743469.117774  1.402989e+06   Point_9   90.0   0.000000  10.907112\n",
       "9   743469.117774  1.402978e+06  Point_10  180.0  53.917774   0.000000\n",
       "10  743415.200000  1.402978e+06  Point_11   90.0   0.000000  14.320753\n",
       "11  743415.200000  1.402963e+06  Point_12  180.0  12.612234   0.000000"
      ]
     },
     "execution_count": 21,
     "metadata": {},
     "output_type": "execute_result"
    }
   ],
   "source": [
    "#Just Calculate Cross check building\n",
    "Proper_Polygon = calculate_axis_of_each_point(Proper_Polygon,'x', 'y')\n",
    "Proper_Polygon = calculate_difference_length_of_each_point(Proper_Polygon, 'x', 'y')\n",
    "Proper_Polygon\n",
    "# If the drawing is rectangularized, the degree of each point should be 90 degree"
   ]
  },
  {
   "cell_type": "markdown",
   "id": "19ac4b12",
   "metadata": {},
   "source": [
    "# Area Zone Division by Y-Axis"
   ]
  },
  {
   "cell_type": "code",
   "execution_count": 22,
   "id": "a69cc300",
   "metadata": {},
   "outputs": [],
   "source": [
    "def divide_zone_as_rectangles(Proper_Polygon: pd.DataFrame)-> object:\n",
    "    \"\"\"Divide zone as rectangles\n",
    "\n",
    "    Args:\n",
    "        Proper_Polygon (pd.DataFrame): The DataFrame of proper polygon prepared to be divided\n",
    "\n",
    "    Returns:\n",
    "        object: The object of the divided in zone polygon in AutoCAD\n",
    "        zone (list): The list of 3-tuples of each zone\n",
    "        zone_length (list): The list of length of each zone\n",
    "    \"\"\"\n",
    "    \n",
    "    # create empty list to store list of 3-tuples of each zone\n",
    "    zone_list = []\n",
    "    # create empty list to store length of each zone\n",
    "    zone_length = []\n",
    "    \n",
    "    # Step1: list all y of the polygon, then let the lowest y be the bottom of the rectangle, \n",
    "    all_y = list(Proper_Polygon['y'])\n",
    "    y_sort = list(set(all_y))\n",
    "    y_sort = sorted(y_sort)\n",
    "\n",
    "    # create empty list to store x of the previous zone prepare to analyze the next zone\n",
    "    x_previous = []\n",
    "\n",
    "    # loop for each y_base\n",
    "    for i in range (len(y_sort)-1): # len(y_sort)-1 because the highest y is the top of the building\n",
    "        y_base = y_sort[i] # y_base is the lowest y \n",
    "    \n",
    "    # Step2: find x corresponding to that y_base\n",
    "        # include x_previous to analyze new x in the next zone\n",
    "        if len(x_previous) == 0: # at the first zone, x_previous is empty\n",
    "            x_sample = list(Proper_Polygon['x'][Proper_Polygon['y'] == y_base])\n",
    "            \n",
    "        elif len(x_previous) != 0: # at the next zone, x_previous is not empty\n",
    "            x_sample = list(Proper_Polygon['x'][Proper_Polygon['y'] == y_base])\n",
    "            x_sample.extend(x_previous)\n",
    "            \n",
    "        # Note that: x that is going to be selected must has y corresponding which is higher than y_base\n",
    "        # create a dataframe to check x and y of the polygon\n",
    "        df_analyze = []\n",
    "        for x in x_sample:\n",
    "            x_col = Proper_Polygon['x'] == x\n",
    "            y_col = Proper_Polygon['y'] > y_base\n",
    "            df = Proper_Polygon.loc[x_col & y_col]\n",
    "            df_analyze.append(df)\n",
    "        df_analyze = pd.concat(df_analyze)\n",
    "\n",
    "        x_analyze = list(df_analyze['x'])\n",
    "        left_x = min(x_analyze)\n",
    "        right_x = max(x_analyze)\n",
    "\n",
    "    # Step3: find y_top which is the top of the rectangle, which is the lower y corresponding to left_x and right_x\n",
    "        y_sample = list(Proper_Polygon['y'][Proper_Polygon['x'] == left_x])\n",
    "        y_sample2 = list(Proper_Polygon['y'][Proper_Polygon['x'] == right_x])\n",
    "        y_sample.extend(y_sample2) \n",
    "        # select only y that is higher than y_base\n",
    "        y_sample = [y for y in y_sample if y > y_base]\n",
    "        # y_top is y at the top of the rectangle\n",
    "        y_top = min(y_sample)\n",
    "        y_higher_top = max(y_sample) # higher y is not used\n",
    "\n",
    "    # Step4: select x at the top of the rectangle\n",
    "        # If x is on the edge of the polygon, x_select is that x\n",
    "        for x in x_analyze:\n",
    "            # x_select is always at the edge of the polygon\n",
    "            try:\n",
    "                if x not in list(Proper_Polygon['x'][Proper_Polygon['y'] == y_top]):\n",
    "                    x_select = x\n",
    "                    # store the new x to x_previous list to analyze the next x for the next zone\n",
    "                    x_previous.append(x_select)\n",
    "            except:\n",
    "                # If x is not on the edge, there is no error\n",
    "                continue\n",
    "     \n",
    "    # Step5: execute polyline polygon from the Mark\n",
    "        try:\n",
    "            if x_select < right_x:\n",
    "                x_to_plot = [left_x, right_x, right_x, x_select]\n",
    "            elif x_select > left_x:\n",
    "                x_to_plot = [left_x, right_x, x_select, left_x]\n",
    "        # if x is not on the edge, use that left_x and right_x to plot\n",
    "        except:\n",
    "            x_to_plot = [left_x, right_x, right_x, left_x]\n",
    "\n",
    "        y_to_plot = [y_base, y_base, y_top, y_top]\n",
    "\n",
    "        # Record 3-tuples of each zone\n",
    "        z = [] # z is the 3-tuples of each zone\n",
    "        \n",
    "        # The order is as following\n",
    "        # left bottom, right bottom, right top, left top\n",
    "        for ii in range(len(x_to_plot)):\n",
    "            z.append(x_to_plot[ii])\n",
    "            z.append(y_to_plot[ii])\n",
    "            z.append(0)\n",
    "        zone_list.append(z)\n",
    "        \n",
    "        # Record length of each zone\n",
    "        try:\n",
    "            if x_select < right_x:\n",
    "                zone_length.append(right_x - x_select)\n",
    "            elif x_select > left_x:\n",
    "                zone_length.append(x_select - left_x)\n",
    "        except:\n",
    "                zone_length.append(right_x - left_x)\n",
    "        \n",
    "        # create a dataframe named Mark to execute line of the polygon that has been divided\n",
    "        # Mark = prepare_dataframe('Mark', x_to_plot, y_to_plot)\n",
    "        # execute_line_polygon(Mark, 'x', 'y')\n",
    "        print(f\"zone {i+1} is done\")\n",
    "    \n",
    "    return zone_list, zone_length"
   ]
  },
  {
   "cell_type": "code",
   "execution_count": 23,
   "id": "bd8c587e",
   "metadata": {},
   "outputs": [
    {
     "name": "stdout",
     "output_type": "stream",
     "text": [
      "zone 1 is done\n",
      "zone 2 is done\n",
      "zone 3 is done\n",
      "zone 4 is done\n",
      "zone 5 is done\n"
     ]
    }
   ],
   "source": [
    "zone,zone_length = divide_zone_as_rectangles(Proper_Polygon)"
   ]
  },
  {
   "cell_type": "markdown",
   "id": "97baf12d",
   "metadata": {},
   "source": [
    "# Area Combination by Percentile"
   ]
  },
  {
   "cell_type": "code",
   "execution_count": 24,
   "id": "e011a23c",
   "metadata": {},
   "outputs": [
    {
     "name": "stdout",
     "output_type": "stream",
     "text": [
      "Zone n is dependent\n",
      "Combine Zone n with n+1\n",
      "Combine Zone n with n+1\n",
      "Zone n is dependent\n"
     ]
    }
   ],
   "source": [
    "# Function to Combine Zone Area\n",
    "\n",
    "# create empty list to store difference of length\n",
    "zone_length_diff = []\n",
    "for i in range(1,len(zone_length)): # loop for each zone starting from the 2nd zone\n",
    "    diff = zone_length[i]-zone_length[i-1] # calculate difference of length\n",
    "    zone_length_diff.append(diff) \n",
    "    \n",
    "# calulcate range to seperate\n",
    "q1, q3 = np.percentile(zone_length_diff,[25,75])\n",
    "\n",
    "\n",
    "combine_zone = [] # create empty list to store combined zone\n",
    "_continue = False # create boolean to check whether the zone is in range Q1 and Q3\n",
    "c = 0 # create counter to count zone\n",
    "\n",
    "for d in zone_length_diff:\n",
    "    \n",
    "    # If difference of length is in the range of Q1 and Q3, then combine zone\n",
    "    if q1 < d and d < q3: \n",
    "        \n",
    "        print(\"Combine Zone n with n+1\")\n",
    "        if _continue == True: #Other Zone Analyze\n",
    "            xmin = max(combine_zone[-1][0],zone[c][0])\n",
    "            xmax = min(combine_zone[-1][3],zone[c][3])\n",
    "            ymin = min(combine_zone[-1][1],zone[c][1])\n",
    "            ymax = max(combine_zone[-1][7],zone[c][7])\n",
    "            z = 0\n",
    "            com = [xmin,ymin,z,xmax,ymin,z,xmax,ymax,z,xmin,ymax,z]\n",
    "            combine_zone.pop(-1)\n",
    "            combine_zone.append(com)\n",
    "            c += 1\n",
    "            #print(c)\n",
    "        \n",
    "        # analyze 1st zone\n",
    "        if _continue == False: \n",
    "            xmin = max(zone[c][0],zone[c+1][0])\n",
    "            xmax = min(zone[c][3],zone[c+1][3])\n",
    "            ymin = min(zone[c][1],zone[c+1][1])\n",
    "            ymax = max(zone[c][7],zone[c+1][7])\n",
    "            z = 0\n",
    "            com = [xmin,ymin,z,xmax,ymin,z,xmax,ymax,z,xmin,ymax,z]\n",
    "            combine_zone.append(com)\n",
    "            _continue = True\n",
    "            c += 2  \n",
    "             \n",
    "    else: #Zone is in range Q1 and Q3\n",
    "        print(\"Zone n is dependent\")\n",
    "        combine_zone.append(zone[c])\n",
    "        _continue = False\n",
    "        #print(c)\n",
    "        c += 1\n",
    "        \n"
   ]
  },
  {
   "cell_type": "markdown",
   "id": "4962d10f",
   "metadata": {},
   "source": [
    "# Calculate Area after Combination"
   ]
  },
  {
   "cell_type": "code",
   "execution_count": 25,
   "id": "b5e5d7dc",
   "metadata": {},
   "outputs": [
    {
     "data": {
      "text/plain": [
       "([180.6166820815404, 863.6103817173943, 39.691813648183114],\n",
       " [12.612233967054635, 61.992973731132224, 13.023817056207918],\n",
       " [14.32075257669203, 13.930778437294066, 3.047632923349738])"
      ]
     },
     "execution_count": 25,
     "metadata": {},
     "output_type": "execute_result"
    }
   ],
   "source": [
    "# Calculate Area After Combine\n",
    "x_zone = [] # record x-axis length of each zone\n",
    "y_zone = [] # record y-axis length of each zone\n",
    "area_zone = [] # record area of each zone\n",
    "\n",
    "for zonearea in range(0,len(combine_zone)):\n",
    "    \n",
    "    x_axis_length = combine_zone[zonearea][3] - combine_zone[zonearea][0] \n",
    "    y_axis_length = combine_zone[zonearea][7] - combine_zone[zonearea][1] \n",
    "    area = x_axis_length*y_axis_length\n",
    "    area_zone.append(area)\n",
    "    x_zone.append(x_axis_length)\n",
    "    y_zone.append(y_axis_length)\n",
    "    \n",
    "area_zone,x_zone, y_zone   "
   ]
  },
  {
   "cell_type": "markdown",
   "id": "f08b7d73",
   "metadata": {},
   "source": [
    "# Design Solar Layout"
   ]
  },
  {
   "cell_type": "code",
   "execution_count": 26,
   "id": "808213fc",
   "metadata": {},
   "outputs": [
    {
     "data": {
      "text/plain": [
       "(0.11111111111111072, 11.11111111111111)"
      ]
     },
     "execution_count": 26,
     "metadata": {},
     "output_type": "execute_result"
    }
   ],
   "source": [
    "num_pv_per_string = 18\n",
    "num_inverter = 100/(num_pv_per_string/2)\n",
    "devide = num_inverter-floor(num_inverter)\n",
    "devide,num_inverter"
   ]
  },
  {
   "cell_type": "code",
   "execution_count": 27,
   "id": "9a133c55",
   "metadata": {},
   "outputs": [],
   "source": [
    "# spec pv and length by standards\n",
    "pv_width = 1134/1000\n",
    "pv_length = 2278/1000\n",
    "\n",
    "pv_gap = 15/1000\n",
    "pv_column_gap = 400/1000\n",
    "\n",
    "building_edge = 1000/1000\n",
    "\n",
    "walkway_width = 400/1000\n",
    "walkway_endclamp = 100/1000\n",
    "walkway_pv_gap = 100/1000"
   ]
  },
  {
   "cell_type": "code",
   "execution_count": 28,
   "id": "5227d2f0",
   "metadata": {},
   "outputs": [],
   "source": [
    "num_pv_per_string = 18"
   ]
  },
  {
   "cell_type": "code",
   "execution_count": 29,
   "id": "b73c8796",
   "metadata": {},
   "outputs": [
    {
     "data": {
      "text/plain": [
       "(1, 9999)"
      ]
     },
     "execution_count": 29,
     "metadata": {},
     "output_type": "execute_result"
    }
   ],
   "source": [
    "#Find main axis\n",
    "x_axis_index = 9999\n",
    "y_axis_index = 9999\n",
    "if max(x_zone) > max(y_zone):\n",
    "    x_axis_index = x_zone.index(max(x_zone))\n",
    "else:\n",
    "    y_axis_index = y_zone.index(max(y_zone))\n",
    "    \n",
    "x_axis_index,y_axis_index  "
   ]
  },
  {
   "cell_type": "code",
   "execution_count": 30,
   "id": "ad44e920",
   "metadata": {},
   "outputs": [],
   "source": [
    "#Find Suitable WalkWay\n",
    "#Partial Analyze based on sub-axis\n",
    "\n"
   ]
  },
  {
   "cell_type": "code",
   "execution_count": 31,
   "id": "302e0aa7",
   "metadata": {},
   "outputs": [],
   "source": [
    "#Calculate PV per column (Big Area)\n",
    "# 1 tier is PV per column == Invertor string\n",
    "# 2 tier is PV per column == (Invertor string)/2\n",
    "# 3 tier is others\n",
    "\n"
   ]
  },
  {
   "cell_type": "code",
   "execution_count": 32,
   "id": "27906db7",
   "metadata": {},
   "outputs": [],
   "source": [
    "Building_side = 2\n",
    "Req_Main_Walk = walkway_endclamp + walkway_width + 3*walkway_endclamp + Building_side*building_edge\n",
    "Req_Pv_String = pv_width*num_pv_per_string + pv_gap*(num_pv_per_string-1)"
   ]
  },
  {
   "cell_type": "code",
   "execution_count": 33,
   "id": "02975a38",
   "metadata": {},
   "outputs": [
    {
     "data": {
      "text/plain": [
       "23.467"
      ]
     },
     "execution_count": 33,
     "metadata": {},
     "output_type": "execute_result"
    }
   ],
   "source": [
    "Req_Distance = Req_Main_Walk + Req_Pv_String\n",
    "Req_Distance"
   ]
  },
  {
   "cell_type": "code",
   "execution_count": 34,
   "id": "fd3a588a",
   "metadata": {},
   "outputs": [],
   "source": [
    "# #String Number Cal\n",
    "# No_string = (y_axis_length-Req_Main_Walk)/Req_Pv_String\n",
    "# No_string"
   ]
  },
  {
   "cell_type": "code",
   "execution_count": 35,
   "id": "a2824081",
   "metadata": {},
   "outputs": [
    {
     "data": {
      "text/plain": [
       "9"
      ]
     },
     "execution_count": 35,
     "metadata": {},
     "output_type": "execute_result"
    }
   ],
   "source": [
    "#PV number\n",
    "No_PV = (y_zone[1]-Req_Main_Walk+pv_gap)/(pv_width+pv_gap)\n",
    "No_PV = floor(No_PV)\n",
    "No_PV                "
   ]
  },
  {
   "cell_type": "markdown",
   "id": "aab45b51",
   "metadata": {},
   "source": [
    "# PV Layout in Biggest Zone"
   ]
  },
  {
   "cell_type": "code",
   "execution_count": 36,
   "id": "235aadef",
   "metadata": {},
   "outputs": [],
   "source": [
    "#Start from upper\n",
    "\n",
    "pv = []\n",
    "#1st Panel\n",
    "\n",
    "#1st point in 1st panel\n",
    "# \"x\" (left) + building edge\n",
    "x = combine_zone[1][0] + building_edge \n",
    "# \"y\" (From above) - building edge, walk way, cable tray, life line & water line\n",
    "y = combine_zone[1][7] - building_edge - walkway_width - 3*walkway_endclamp \n",
    "z = 0\n",
    "edge = [x,y,z]\n",
    "pv.extend(edge)\n",
    "\n",
    "#2nd point in 1st panel\n",
    "x = x + pv_length\n",
    "y = y\n",
    "z = 0\n",
    "edge = [x,y,z]\n",
    "pv.extend(edge)\n",
    "\n",
    "#3rd point in 1st panel\n",
    "x = x \n",
    "y = y - pv_width\n",
    "z = 0\n",
    "edge = [x,y,z]\n",
    "pv.extend(edge)\n",
    "\n",
    "#4th point in 1st panel\n",
    "x = combine_zone[1][0] + building_edge \n",
    "y = combine_zone[1][7] - building_edge - walkway_width - 3*walkway_endclamp - pv_width\n",
    "z = 0\n",
    "edge = [x,y,z]\n",
    "pv.extend(edge)\n",
    "\n",
    "#Cover Rectangular point in 1st panel\n",
    "x = combine_zone[1][0] + building_edge  #Back to start point\n",
    "y = combine_zone[1][7] - building_edge - walkway_width - 3*walkway_endclamp #Back to start point\n",
    "z = 0\n",
    "edge = [x,y,z]\n",
    "pv.extend(edge)\n",
    "\n",
    "spv = aDouble(pv)\n",
    "Panel = acad.model.AddPolyline(spv)"
   ]
  },
  {
   "cell_type": "code",
   "execution_count": 37,
   "id": "4f76df90",
   "metadata": {},
   "outputs": [
    {
     "data": {
      "text/plain": [
       "23"
      ]
     },
     "execution_count": 37,
     "metadata": {},
     "output_type": "execute_result"
    }
   ],
   "source": [
    "#PV string column\n",
    "\n",
    "No_column_set = 2 \n",
    "x_1st = combine_zone[1][0] + building_edge  # Start point\n",
    "x_nth = combine_zone[1][3] - building_edge  # Last point\n",
    "\n",
    "PV_set = ((x_nth-x_1st) + (walkway_width+2*walkway_pv_gap))/((pv_length*No_column_set + pv_gap*(No_column_set-1)) + (walkway_width+2*walkway_pv_gap))\n",
    "\n",
    "Main_PV_set = floor(PV_set)\n",
    "Portion_PV_set = (PV_set - Main_PV_set)*(pv_length*No_column_set+pv_gap*(No_column_set-1)+walkway_width+2*walkway_pv_gap)/(pv_length+pv_gap)\n",
    "Portion_PV_set = floor(Portion_PV_set)\n",
    "\n",
    "PV_set = No_column_set*Main_PV_set+Portion_PV_set\n",
    "PV_set"
   ]
  },
  {
   "cell_type": "code",
   "execution_count": 38,
   "id": "87ad3b0f",
   "metadata": {},
   "outputs": [
    {
     "name": "stdout",
     "output_type": "stream",
     "text": [
      "c: 0 Round: 0 g: 0\n",
      "c: 1 Round: 1 g: 1\n",
      "c: 2 Round: 2 g: 1\n",
      "c: 3 Round: 1 g: 2\n",
      "c: 4 Round: 2 g: 2\n",
      "c: 5 Round: 1 g: 3\n",
      "c: 6 Round: 2 g: 3\n",
      "c: 7 Round: 1 g: 4\n",
      "c: 8 Round: 2 g: 4\n",
      "c: 9 Round: 1 g: 5\n",
      "c: 10 Round: 2 g: 5\n",
      "c: 11 Round: 1 g: 6\n",
      "c: 12 Round: 2 g: 6\n",
      "c: 13 Round: 1 g: 7\n",
      "c: 14 Round: 2 g: 7\n",
      "c: 15 Round: 1 g: 8\n",
      "c: 16 Round: 2 g: 8\n",
      "c: 17 Round: 1 g: 9\n",
      "c: 18 Round: 2 g: 9\n",
      "c: 19 Round: 1 g: 10\n",
      "c: 20 Round: 2 g: 10\n",
      "c: 21 Round: 1 g: 11\n",
      "c: 22 Round: 2 g: 11\n"
     ]
    }
   ],
   "source": [
    "#P2 = Panel.Copy()\n",
    "no_B = 0 \n",
    "g = 0\n",
    "x = combine_zone[1][0] + building_edge  #Back to start point\n",
    "y = combine_zone[1][7] - building_edge - walkway_width - 3*walkway_endclamp #Back to start point\n",
    "Round = 0\n",
    "\n",
    "# create empty list to store value of edge of x and y to find contact point of DC cables\n",
    "x_edge_list = []\n",
    "y_edge_list = []\n",
    "\n",
    "for c in range(0,PV_set):\n",
    "    \n",
    "    if (c>0) & (c%No_column_set==0):\n",
    "        no_B += 1\n",
    "    if (c>0) & (Round>No_column_set):\n",
    "        Round = 1\n",
    "    if (c>0) & (Round<No_column_set):\n",
    "        g +=1\n",
    "        \n",
    "    \n",
    "    print(f\"c: {c} Round: {Round} g: {g}\")\n",
    "    Round += 1\n",
    "         \n",
    "    xi = x+(c*pv_length)+(g*pv_gap)+no_B*(2*walkway_pv_gap+walkway_width)\n",
    "    P2 = Panel.Copy()\n",
    "    P2.Move(APoint(x,y),\n",
    "            APoint(xi,y)) #Plus in \"C\" from \"left\" to \"Right\"\n",
    "\n",
    "    \n",
    "    for r in range(1,No_PV):\n",
    "        yi = y - pv_width*r - pv_gap*r\n",
    "        P2 = Panel.Copy()\n",
    "        P2.Move(APoint(x,y),\n",
    "            APoint(xi,yi)) #Minus in \"r\" from \"Up\" to \"Down\"\n",
    "    x_edge = xi \n",
    "    y_edge = (y + (yi - pv_width))/2\n",
    "    \n",
    "    x_edge_list.append(x_edge)\n",
    "    y_edge_list.append(y_edge)\n",
    "    #if (c>0) & (c%No_column_set==0):\n",
    "    #    no_B += 1"
   ]
  },
  {
   "cell_type": "markdown",
   "id": "4a646173",
   "metadata": {},
   "source": [
    "# Create Main Walkway"
   ]
  },
  {
   "cell_type": "code",
   "execution_count": 39,
   "id": "a8984ea5",
   "metadata": {},
   "outputs": [],
   "source": [
    "#Walk Way create (Main)\n",
    "#Start from lower\n",
    "Main_way = []\n",
    "z = 0\n",
    "x = combine_zone[1][0] + building_edge  #Start point\n",
    "y = combine_zone[1][1] + building_edge  #Lower Main Edge\n",
    "Main_edge = [x,y,z]\n",
    "Main_way.extend(Main_edge)\n",
    "\n",
    "x = combine_zone[1][3] - building_edge  \n",
    "y = y  \n",
    "Main_edge = [x,y,z]\n",
    "Main_way.extend(Main_edge)\n",
    "\n",
    "x = x  \n",
    "y = y + walkway_width #Upper Main Edge\n",
    "Main_edge = [x,y,z]\n",
    "Main_way.extend(Main_edge)\n",
    "\n",
    "x = combine_zone[1][0] + building_edge  \n",
    "y = y \n",
    "Main_edge = [x,y,z]\n",
    "Main_way.extend(Main_edge)\n",
    "\n",
    "x = x  \n",
    "y = y - walkway_width  \n",
    "Main_edge = [x,y,z]\n",
    "Main_way.extend(Main_edge)\n",
    "\n",
    "mw = aDouble(Main_way)\n",
    "MainWay = acad.model.AddPolyline(mw)\n",
    "MainWay.Color = 2\n",
    "\n"
   ]
  },
  {
   "cell_type": "markdown",
   "id": "943b6dcb",
   "metadata": {},
   "source": [
    "# Create DC Line"
   ]
  },
  {
   "cell_type": "code",
   "execution_count": 40,
   "id": "3b5f42ab",
   "metadata": {},
   "outputs": [],
   "source": [
    "x_contact_point_list = []\n",
    "y_contact_point_list = []\n",
    "if len(x_edge_list)%2 == 0:\n",
    "    for i in range (0,len(x_edge_list),2):\n",
    "        x = (x_edge_list[i] + (x_edge_list[i+1] + pv_length))/2\n",
    "        y = y_edge_list[i]\n",
    "        x_contact_point_list.append(x)\n",
    "        y_contact_point_list.append(y)        \n",
    "        \n",
    "elif len(x_edge_list)%2 != 0:\n",
    "    for i in range (0,len(x_edge_list)-1,2):\n",
    "        x = (x_edge_list[i] + (x_edge_list[i+1] + pv_length))/2\n",
    "        y = y_edge_list[i]\n",
    "        x_contact_point_list.append(x)\n",
    "        y_contact_point_list.append(y)\n",
    "    x = x_edge_list[-1]\n",
    "    y = y_edge_list[-1]\n",
    "    x_contact_point_list.append((x+x+pv_length)/2) \n",
    "    y_contact_point_list.append(y)\n"
   ]
  },
  {
   "cell_type": "code",
   "execution_count": 41,
   "id": "262d2e9a",
   "metadata": {},
   "outputs": [],
   "source": [
    "inverter_coor = [743467.7324,1402984.1785]"
   ]
  },
  {
   "cell_type": "code",
   "execution_count": 42,
   "id": "3658f5e5",
   "metadata": {},
   "outputs": [],
   "source": [
    "# create dc line from contact point to inverter\n",
    "y_center_main_way = (Main_way[1]+Main_way[7])/2\n",
    "dc_length_list = []\n",
    "for i in range (len(x_contact_point_list)):\n",
    "    x1 = x_contact_point_list[i]\n",
    "    y1 = y_contact_point_list[i]\n",
    "    p1 = APoint(x1,y1)\n",
    "        \n",
    "    x2 = x1\n",
    "    y2 = y_center_main_way\n",
    "    p2 = APoint(x2,y2)\n",
    "        \n",
    "    x3 = inverter_coor[0]\n",
    "    y3 = y_center_main_way\n",
    "    p3 = APoint(x3,y3)\n",
    "        \n",
    "    x4 = x3\n",
    "    y4 = inverter_coor[1]\n",
    "    p4 = APoint(x4,y4)\n",
    "\n",
    "    line1 = acad.model.AddLine(p1,p2)\n",
    "    line1.Color = 1\n",
    "    line2 = acad.model.AddLine(p2,p3)\n",
    "    line2.Color = 1\n",
    "    line3 = acad.model.AddLine(p3,p4)\n",
    "    line3.Color = 1\n",
    "    \n",
    "    length_part_1 = distance(p1,p2)\n",
    "    length_part_2 = distance(p2,p3)\n",
    "    length_part_3 = distance(p3,p4)\n",
    "    \n",
    "    dc_length = length_part_1 + length_part_2 + length_part_3\n",
    "    dc_length_list.append(dc_length)"
   ]
  },
  {
   "cell_type": "code",
   "execution_count": 43,
   "id": "a893b0c7",
   "metadata": {},
   "outputs": [
    {
     "data": {
      "text/plain": [
       "[71.26967399811838,\n",
       " 66.0986739982618,\n",
       " 60.927673998172395,\n",
       " 55.75667399808299,\n",
       " 50.58567399822641,\n",
       " 45.41467399825342,\n",
       " 40.24367399828043,\n",
       " 35.07267399819102,\n",
       " 29.901673998101614,\n",
       " 24.730673998245038,\n",
       " 19.55967399815563,\n",
       " 15.535173998214304]"
      ]
     },
     "execution_count": 43,
     "metadata": {},
     "output_type": "execute_result"
    }
   ],
   "source": [
    " dc_length_list"
   ]
  },
  {
   "cell_type": "code",
   "execution_count": 44,
   "id": "d61830cc",
   "metadata": {},
   "outputs": [
    {
     "data": {
      "text/plain": [
       "515.0965879783034"
      ]
     },
     "execution_count": 44,
     "metadata": {},
     "output_type": "execute_result"
    }
   ],
   "source": [
    "dc_length_total = sum(dc_length_list)\n",
    "dc_length_total"
   ]
  },
  {
   "cell_type": "markdown",
   "id": "7348e3c9",
   "metadata": {},
   "source": [
    "# Voltage Drop Calculation"
   ]
  },
  {
   "cell_type": "markdown",
   "id": "5c33985e",
   "metadata": {},
   "source": [
    "Vdrop (V) = Iwire (A) × Rwire(Ω)\n",
    "          = Iwire (A) × (2 × L(m) × Rwire (Ω/km) / 1000(m/km))\n",
    "\n",
    "Vdrop (V) = num_PV x Voltage of each PV (in 1 string)\n"
   ]
  },
  {
   "cell_type": "code",
   "execution_count": null,
   "id": "f4921ec7",
   "metadata": {},
   "outputs": [],
   "source": []
  },
  {
   "cell_type": "code",
   "execution_count": 45,
   "id": "21b3d775",
   "metadata": {},
   "outputs": [],
   "source": [
    "# Assume that this project use 4 mm2 DC cable\n",
    "\n",
    "Iwire = 14.47 #unit: A\n",
    "Rwire = 5.09\n",
    "voltage_drop_list = []\n",
    "for l in dc_length_list:\n",
    "    r = 2*l*Rwire/1000 #unit: ohm\n",
    "    voltage_drop = Iwire * r\n",
    "    voltage_drop_list.append(voltage_drop)"
   ]
  },
  {
   "cell_type": "code",
   "execution_count": 46,
   "id": "96ec72c3",
   "metadata": {},
   "outputs": [
    {
     "data": {
      "text/plain": [
       "[10.49835082042323,\n",
       " 9.736638733844355,\n",
       " 8.974926647231186,\n",
       " 8.213214560618015,\n",
       " 7.451502474039144,\n",
       " 6.689790387443121,\n",
       " 5.928078300847099,\n",
       " 5.166366214233929,\n",
       " 4.404654127620759,\n",
       " 3.642942041041886,\n",
       " 2.8812299544287163,\n",
       " 2.2884025917373587]"
      ]
     },
     "execution_count": 46,
     "metadata": {},
     "output_type": "execute_result"
    }
   ],
   "source": [
    "voltage_drop_list"
   ]
  },
  {
   "cell_type": "code",
   "execution_count": 47,
   "id": "1d1e8995",
   "metadata": {},
   "outputs": [
    {
     "data": {
      "text/plain": [
       "9"
      ]
     },
     "execution_count": 47,
     "metadata": {},
     "output_type": "execute_result"
    }
   ],
   "source": [
    "No_PV"
   ]
  },
  {
   "cell_type": "code",
   "execution_count": 48,
   "id": "18e91370",
   "metadata": {},
   "outputs": [],
   "source": [
    "voltage_at_start_terminal = No_PV * 51.02"
   ]
  },
  {
   "cell_type": "markdown",
   "id": "ecb86ebc",
   "metadata": {},
   "source": [
    "# Create Branch"
   ]
  },
  {
   "cell_type": "code",
   "execution_count": 49,
   "id": "4b3482cb",
   "metadata": {},
   "outputs": [],
   "source": [
    "#Walk Way create (Branch)\n",
    "branch_way = []\n",
    "x = combine_zone[1][0] + building_edge  #start point\n",
    "y = combine_zone[1][7] - building_edge - walkway_width - 0*walkway_endclamp #start point\n",
    "z = 0\n",
    "edge = [x,y,z]\n",
    "branch_way.extend(edge)\n",
    "\n",
    "\n",
    "x = x + walkway_width  #right point\n",
    "y = y #right point\n",
    "z = 0\n",
    "edge = [x,y,z]\n",
    "branch_way.extend(edge)\n",
    "\n",
    "x = x #right bottom point\n",
    "y = combine_zone[1][1] + building_edge + walkway_width   #right bottom point\n",
    "z = 0\n",
    "edge = [x,y,z]\n",
    "branch_way.extend(edge)\n",
    "\n",
    "x = x - walkway_width #left bottom point\n",
    "y = y  #left bottom point\n",
    "z = 0\n",
    "edge = [x,y,z]\n",
    "branch_way.extend(edge)\n",
    "\n",
    "x = combine_zone[1][0] + building_edge  #start point\n",
    "y = combine_zone[1][7] - building_edge - walkway_width - 0*walkway_endclamp #start point\n",
    "z = 0\n",
    "edge = [x,y,z]\n",
    "branch_way.extend(edge)\n",
    "\n",
    "bw = aDouble(branch_way)\n",
    "BranchWay = acad.model.AddPolyline(bw)\n",
    "BranchWay.Color = 2"
   ]
  },
  {
   "cell_type": "code",
   "execution_count": 50,
   "id": "ea6d0473",
   "metadata": {},
   "outputs": [],
   "source": [
    "#Expand branch line\n",
    "\n",
    "Pre_Walk = No_column_set*pv_length+(No_column_set-1)*pv_gap+walkway_pv_gap\n",
    "Back_Walk = walkway_pv_gap + walkway_width\n",
    "x = combine_zone[1][0] + building_edge  #start point\n",
    "y = combine_zone[1][7] - building_edge - walkway_width - 0*walkway_endclamp #start point\n",
    "Round = 0\n",
    "pv = 0\n",
    "m_point = Pre_Walk*(Round+1) + Round*Back_Walk\n",
    "BranchWay.Move(APoint(x,y),\n",
    "            APoint(x+m_point,y)) #Plus in \"C\" from \"left\" to \"Right\"\n",
    "x = x+m_point\n",
    "\n",
    "#bw2 = BranchWay.Copy()\n",
    "if PV_set%No_column_set!=0:\n",
    "    PV_set_Round = PV_set-1\n",
    "if PV_set%No_column_set==0:\n",
    "    PV_set_Round = PV_set\n",
    "    \n",
    "while pv < PV_set_Round:\n",
    "    #print(\"pv : \"+str(pv))\n",
    "    bw2 = BranchWay.Copy()\n",
    "    m_point = (2*walkway_pv_gap + walkway_width + No_column_set*pv_length + (No_column_set-1)*pv_gap)*Round\n",
    "    #m_point = Pre_Walk*(Round+1) + Round*Back_Walk\n",
    "    pv = pv + No_column_set\n",
    "    Round += 1\n",
    "    \n",
    "    bw2.Move(APoint(x,y),\n",
    "            APoint(x+m_point,y)) #Plus in \"C\" from \"left\" to \"Right\"\n",
    "    \n",
    "    "
   ]
  },
  {
   "cell_type": "markdown",
   "id": "ef0d1b46",
   "metadata": {},
   "source": [
    "# PV Layout in 1st Zone"
   ]
  },
  {
   "cell_type": "code",
   "execution_count": 51,
   "id": "17837f04",
   "metadata": {},
   "outputs": [],
   "source": [
    "#Analyzing Length to Plan\n",
    "x_axis_length = combine_zone[0][3] - combine_zone[0][0]\n",
    "y_axis_length = combine_zone[0][7] - combine_zone[0][1]\n",
    "area = x_axis_length*y_axis_length\n",
    "area_zone.append(area)\n",
    "x_zone.append(x_axis_length)\n",
    "y_zone.append(y_axis_length)"
   ]
  },
  {
   "cell_type": "code",
   "execution_count": 52,
   "id": "6cf3b675",
   "metadata": {},
   "outputs": [
    {
     "data": {
      "text/plain": [
       "(743415.2, 743402.5877660329)"
      ]
     },
     "execution_count": 52,
     "metadata": {},
     "output_type": "execute_result"
    }
   ],
   "source": [
    "combine_zone[0][3], combine_zone[0][0]"
   ]
  },
  {
   "cell_type": "code",
   "execution_count": 53,
   "id": "51f6ccef",
   "metadata": {},
   "outputs": [
    {
     "data": {
      "text/plain": [
       "(1402977.62, 1402963.2992474234)"
      ]
     },
     "execution_count": 53,
     "metadata": {},
     "output_type": "execute_result"
    }
   ],
   "source": [
    "combine_zone[0][7], combine_zone[0][1]"
   ]
  },
  {
   "cell_type": "code",
   "execution_count": 54,
   "id": "cb8196f3",
   "metadata": {},
   "outputs": [
    {
     "data": {
      "text/plain": [
       "(1402977.62, 1402978.52)"
      ]
     },
     "execution_count": 54,
     "metadata": {},
     "output_type": "execute_result"
    }
   ],
   "source": [
    "combine_zone[0][7], combine_zone[1][1] + building_edge - walkway_endclamp"
   ]
  },
  {
   "cell_type": "code",
   "execution_count": 55,
   "id": "28c48fc0",
   "metadata": {},
   "outputs": [
    {
     "data": {
      "text/plain": [
       "13"
      ]
     },
     "execution_count": 55,
     "metadata": {},
     "output_type": "execute_result"
    }
   ],
   "source": [
    "Lower_Main_Way = combine_zone[1][1] + building_edge - walkway_endclamp\n",
    "Upper_Area_Edge = combine_zone[0][7]\n",
    "\n",
    "if Lower_Main_Way > Upper_Area_Edge:\n",
    "    PV_Upper_Area_2_Edge = Lower_Main_Way\n",
    "    \n",
    "PV_Upper_Area_2_Edge\n",
    "PV_Lower_Area_2_Edge = combine_zone[0][1]\n",
    "\n",
    "No_PV = (PV_Upper_Area_2_Edge - PV_Lower_Area_2_Edge + pv_gap)/(pv_width+pv_gap)\n",
    "No_PV = floor(No_PV)\n",
    "No_PV "
   ]
  },
  {
   "cell_type": "code",
   "execution_count": 56,
   "id": "292a871a",
   "metadata": {},
   "outputs": [
    {
     "data": {
      "text/plain": [
       "3"
      ]
     },
     "execution_count": 56,
     "metadata": {},
     "output_type": "execute_result"
    }
   ],
   "source": [
    "#Calculate PV column in new area\n",
    "st_x_Ref = combine_zone[1][0] + building_edge #1st Edge of PV Panel\n",
    "x_nth = combine_zone[0][3] - building_edge  #Area 2 Edge for compare\n",
    "g = 0\n",
    "g1 = 0\n",
    "w = 0\n",
    "w1 = 0\n",
    "for r in range(1,PV_set):\n",
    "    \n",
    "    if r > 2:\n",
    "        \n",
    "        if g1 > 1:\n",
    "            g+=1\n",
    "            \n",
    "        if g1 == 2:\n",
    "            g1 = 0\n",
    "            \n",
    "        g1 += 1\n",
    "        \n",
    "    if r == 2:\n",
    "        g  += 1\n",
    "        g1 += 1\n",
    "        \n",
    "    \n",
    "        \n",
    "    if r > No_column_set+1:\n",
    "        \n",
    "        if w1 > No_column_set-1:\n",
    "            w += 1\n",
    "        \n",
    "        if w1 == No_column_set:\n",
    "            w1 = 0\n",
    "            \n",
    "        w1 += 1\n",
    "        \n",
    "    if r == No_column_set+1:\n",
    "        w += 1\n",
    "        w1 += 1\n",
    "\n",
    "    Ref_PV_edge_compare = st_x_Ref + r*pv_length + g*pv_gap + w*(walkway_width + 2*walkway_pv_gap)\n",
    "    #print(\"r : \"+str(r)+\" w : \"+str(w)+\" w1 : \"+str(w1))\n",
    "    #print(\"r : \"+str(r)+\" g : \"+str(g)+\" w : \"+str(w))\n",
    "    \n",
    "    if Ref_PV_edge_compare > x_nth:\n",
    "        pv = r-1\n",
    "        break\n",
    "\n",
    "pv"
   ]
  },
  {
   "cell_type": "code",
   "execution_count": 57,
   "id": "629539f9",
   "metadata": {},
   "outputs": [
    {
     "name": "stdout",
     "output_type": "stream",
     "text": [
      "c : 0 Round : 0 g : 0\n",
      "c : 1 Round : 1 g : 1\n",
      "c : 2 Round : 2 g : 1\n"
     ]
    }
   ],
   "source": [
    "#P2 = Panel.Copy()\n",
    "PV_set = pv\n",
    "no_B = 0\n",
    "g = 0\n",
    "x = combine_zone[1][0] + building_edge  #1st Edge of PV Panel\n",
    "y = combine_zone[1][7] - building_edge - walkway_width - 3*walkway_endclamp #Back to start point\n",
    "yi = Lower_Main_Way\n",
    "Round = 0\n",
    "\n",
    "# create empty list to store value of edge of x and y to find contact point of DC cables\n",
    "x_edge_list_1 = []\n",
    "y_edge_list_1 = []\n",
    "\n",
    "for c in range(0,PV_set):\n",
    "    \n",
    "    if (c>0) & (c%No_column_set==0):\n",
    "        no_B += 1\n",
    "        \n",
    "    if (c>0) & (Round>No_column_set):\n",
    "        Round = 1\n",
    "    if (c>0) & (Round<No_column_set):\n",
    "        g +=1\n",
    "        \n",
    "    \n",
    "    print(\"c : \"+str(c)+\" Round : \"+str(Round)+\" g : \"+str(g))\n",
    "    Round += 1\n",
    "         \n",
    "    xi = x+(c*pv_length)+(g*pv_gap)+no_B*(2*walkway_pv_gap+walkway_width)    \n",
    "    P2 = Panel.Copy()\n",
    "    P2.Move(APoint(x,y),\n",
    "            APoint(xi,yi)) #Plus in \"C\" from \"left\" to \"Right\"\n",
    "\n",
    "    for r in range(1,No_PV):\n",
    "        \n",
    "        y_new = yi-pv_width*r-pv_gap*r\n",
    "        P2 = Panel.Copy()\n",
    "        P2.Move(APoint(x,y),\n",
    "            APoint(xi,y_new)) #Minus in \"r\" from \"Up\" to \"Down\"\n",
    "    x_edge = xi \n",
    "    y_edge = (yi + y_new - pv_width)/2 \n",
    "    x_edge_list_1.append(x_edge)\n",
    "    y_edge_list_1.append(y_edge)      \n",
    "    #if (c>0) & (c%No_column_set==0):\n",
    "    #    no_B += 1\n",
    "    \n"
   ]
  },
  {
   "cell_type": "code",
   "execution_count": 59,
   "id": "30883b70",
   "metadata": {},
   "outputs": [],
   "source": [
    "x_contact_point_list_1 = []\n",
    "y_contact_point_list_1 = []\n",
    "if len(x_edge_list_1)%2 == 0:\n",
    "    for i in range (0,len(x_edge_list_1),2):\n",
    "        x = (x_edge_list_1[i] + x_edge_list_1[i+1] + pv_length)/2\n",
    "        y = y_edge_list_1[i]\n",
    "        x_contact_point_list_1.append(x)\n",
    "        y_contact_point_list_1.append(y)\n",
    "        \n",
    "elif len(x_edge_list_1)%2 != 0:\n",
    "    for i in range (0,len(x_edge_list_1)-1,2):\n",
    "        x = (x_edge_list_1[i] + x_edge_list_1[i+1] + pv_length)/2\n",
    "        y = y_edge_list_1[i]\n",
    "        x_contact_point_list_1.append(x)\n",
    "        y_contact_point_list_1.append(y)\n",
    "    x_contact_point_list_1.append((x_edge_list_1[-1] + (x_edge_list_1[-1]+pv_length))/2)\n",
    "    y_contact_point_list_1.append(y)"
   ]
  },
  {
   "cell_type": "markdown",
   "id": "940780ee",
   "metadata": {},
   "source": [
    "# Create DC Cables"
   ]
  },
  {
   "cell_type": "code",
   "execution_count": 60,
   "id": "3bdacc84",
   "metadata": {},
   "outputs": [],
   "source": [
    "# create dc line from contact point to inverter\n",
    "y_center_main_way = (Main_way[1]+Main_way[7])/2\n",
    "plot = []\n",
    "for i in range (len(x_contact_point_list_1)):\n",
    "    x1 = x_contact_point_list_1[i]\n",
    "    y1 = y_contact_point_list_1[i]\n",
    "    p1 = APoint(x1,y1)\n",
    "    \n",
    "    x2 = x1\n",
    "    y2 = y_center_main_way\n",
    "    p2 = APoint(x2,y2)\n",
    "    \n",
    "    x3 = inverter_coor[0]\n",
    "    y3 = y_center_main_way\n",
    "    p3 = APoint(x3,y3)\n",
    "    \n",
    "    x4 = x3\n",
    "    y4 = inverter_coor[1]\n",
    "    p4 = APoint(x4,y4)\n",
    "\n",
    "    line1 = acad.model.AddLine(p1,p2)\n",
    "    line1.Color = 1\n",
    "    line2 = acad.model.AddLine(p2,p3)\n",
    "    line2.Color = 1\n",
    "    line3 = acad.model.AddLine(p3,p4)\n",
    "    line3.Color = 1"
   ]
  },
  {
   "cell_type": "code",
   "execution_count": 61,
   "id": "25bb9944",
   "metadata": {},
   "outputs": [
    {
     "data": {
      "text/plain": [
       "1402963.6992474233"
      ]
     },
     "execution_count": 61,
     "metadata": {},
     "output_type": "execute_result"
    }
   ],
   "source": [
    "combine_zone[0][1] + walkway_width"
   ]
  },
  {
   "cell_type": "markdown",
   "id": "7a6b850d",
   "metadata": {},
   "source": [
    "# Create Branch"
   ]
  },
  {
   "cell_type": "code",
   "execution_count": 62,
   "id": "fe1ed13e",
   "metadata": {},
   "outputs": [],
   "source": [
    "#Walk Way create (Branch)\n",
    "branch_way = []\n",
    "x = combine_zone[1][0] + building_edge  #start point\n",
    "y = yi + walkway_endclamp  #start point\n",
    "z = 0\n",
    "edge = [x,y,z]\n",
    "branch_way.extend(edge)\n",
    "\n",
    "x = x + walkway_width  #right point\n",
    "y = y #right point\n",
    "z = 0\n",
    "edge = [x,y,z]\n",
    "branch_way.extend(edge)\n",
    "\n",
    "x = x #right bottom point\n",
    "y = combine_zone[0][1] + walkway_width - 3*walkway_endclamp  #right bottom point\n",
    "z = 0\n",
    "edge = [x,y,z]\n",
    "branch_way.extend(edge)\n",
    "\n",
    "x = x - walkway_width #right bottom point\n",
    "y = y  #right bottom point\n",
    "z = 0\n",
    "edge = [x,y,z]\n",
    "branch_way.extend(edge)\n",
    "\n",
    "x = combine_zone[1][0] + building_edge  #start point\n",
    "y = yi + walkway_endclamp #start point\n",
    "z = 0\n",
    "edge = [x,y,z]\n",
    "branch_way.extend(edge)\n",
    "\n",
    "bw = aDouble(branch_way)\n",
    "BranchWay = acad.model.AddPolyline(bw)\n",
    "BranchWay.Color = 2"
   ]
  },
  {
   "cell_type": "code",
   "execution_count": 63,
   "id": "62baf7a5",
   "metadata": {},
   "outputs": [],
   "source": [
    "#Expand branch line\n",
    "\n",
    "Pre_Walk = No_column_set*pv_length+(No_column_set-1)*pv_gap+walkway_pv_gap\n",
    "Back_Walk = walkway_pv_gap + walkway_width\n",
    "x = combine_zone[1][0] + building_edge  #start point\n",
    "y = combine_zone[1][7] - building_edge - walkway_width - 0*walkway_endclamp #start point\n",
    "Round = 0\n",
    "pv = 0\n",
    "m_point = Pre_Walk*(Round+1) + Round*Back_Walk\n",
    "BranchWay.Move(APoint(x,y),\n",
    "            APoint(x+m_point,y)) #Plus in \"C\" from \"left\" to \"Right\"\n",
    "x = x+m_point\n",
    "\n",
    "#bw2 = BranchWay.Copy()\n",
    "if PV_set%No_column_set!=0:\n",
    "    PV_set_Round = PV_set-1\n",
    "if PV_set%No_column_set==0:\n",
    "    PV_set_Round = PV_set\n",
    "    \n",
    "while pv < PV_set_Round:\n",
    "    #print(\"pv : \"+str(pv))\n",
    "    bw2 = BranchWay.Copy()\n",
    "    m_point = (2*walkway_pv_gap + walkway_width + No_column_set*pv_length + (No_column_set-1)*pv_gap)*Round\n",
    "    #m_point = Pre_Walk*(Round+1) + Round*Back_Walk\n",
    "    pv = pv + No_column_set\n",
    "    Round += 1\n",
    "    \n",
    "    bw2.Move(APoint(x,y),\n",
    "            APoint(x+m_point,y)) #Plus in \"C\" from \"left\" to \"Right\""
   ]
  },
  {
   "cell_type": "markdown",
   "id": "abd889ee",
   "metadata": {},
   "source": [
    "# Calculate DC cables"
   ]
  },
  {
   "cell_type": "code",
   "execution_count": null,
   "id": "20e551f9",
   "metadata": {},
   "outputs": [],
   "source": []
  },
  {
   "cell_type": "code",
   "execution_count": null,
   "id": "8e3f945f",
   "metadata": {},
   "outputs": [],
   "source": []
  }
 ],
 "metadata": {
  "kernelspec": {
   "display_name": "Python 3 (ipykernel)",
   "language": "python",
   "name": "python3"
  },
  "language_info": {
   "codemirror_mode": {
    "name": "ipython",
    "version": 3
   },
   "file_extension": ".py",
   "mimetype": "text/x-python",
   "name": "python",
   "nbconvert_exporter": "python",
   "pygments_lexer": "ipython3",
   "version": "3.8.8"
  }
 },
 "nbformat": 4,
 "nbformat_minor": 5
}
