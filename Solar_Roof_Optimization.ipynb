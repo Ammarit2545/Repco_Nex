{
 "cells": [
  {
   "cell_type": "code",
   "execution_count": 1,
   "id": "539a07a2",
   "metadata": {},
   "outputs": [],
   "source": [
    "#import pathlib\n",
    "#import os\n",
    "\n",
    "#import pandas as pd\n",
    "#import numpy as np\n",
    "\n",
    "#import dash\n",
    "#import dash_core_components as dcc\n",
    "#import dash_html_components as html\n",
    "#import plotly.graph_objs as go\n",
    "#from dash.dependencies import Input, Output, State\n",
    "\n",
    "#import constants\n",
    "\n",
    "import turtle as t"
   ]
  },
  {
   "cell_type": "code",
   "execution_count": 2,
   "id": "2d479eb4",
   "metadata": {},
   "outputs": [],
   "source": [
    "tim = t.Turtle()\n",
    "tim.color('red')\n",
    "tim.pensize(5)\n",
    "tim.shape('turtle')\n",
    "tim.forward(100)\n",
    "tim.left(90)\n",
    "tim.forward(100)\n",
    "tim.right(90)"
   ]
  },
  {
   "cell_type": "code",
   "execution_count": null,
   "id": "97f16c52",
   "metadata": {},
   "outputs": [],
   "source": []
  },
  {
   "cell_type": "code",
   "execution_count": 11,
   "id": "9f167003",
   "metadata": {},
   "outputs": [],
   "source": [
    "x1 = [10,100,100,10,10,20,90,90,20,20]\n",
    "y1 = [10,10,100,100,10,20,20,90,90,20]"
   ]
  },
  {
   "cell_type": "code",
   "execution_count": 14,
   "id": "f664dd07",
   "metadata": {},
   "outputs": [
    {
     "data": {
      "application/vnd.plotly.v1+json": {
       "config": {
        "plotlyServerURL": "https://plot.ly"
       },
       "data": [
        {
         "fill": "toself",
         "type": "scatter",
         "x": [
          10,
          100,
          100,
          10,
          10,
          20,
          90,
          90,
          20,
          20
         ],
         "y": [
          10,
          10,
          100,
          100,
          10,
          20,
          20,
          90,
          90,
          20
         ]
        }
       ],
       "layout": {
        "template": {
         "data": {
          "bar": [
           {
            "error_x": {
             "color": "#2a3f5f"
            },
            "error_y": {
             "color": "#2a3f5f"
            },
            "marker": {
             "line": {
              "color": "#E5ECF6",
              "width": 0.5
             },
             "pattern": {
              "fillmode": "overlay",
              "size": 10,
              "solidity": 0.2
             }
            },
            "type": "bar"
           }
          ],
          "barpolar": [
           {
            "marker": {
             "line": {
              "color": "#E5ECF6",
              "width": 0.5
             },
             "pattern": {
              "fillmode": "overlay",
              "size": 10,
              "solidity": 0.2
             }
            },
            "type": "barpolar"
           }
          ],
          "carpet": [
           {
            "aaxis": {
             "endlinecolor": "#2a3f5f",
             "gridcolor": "white",
             "linecolor": "white",
             "minorgridcolor": "white",
             "startlinecolor": "#2a3f5f"
            },
            "baxis": {
             "endlinecolor": "#2a3f5f",
             "gridcolor": "white",
             "linecolor": "white",
             "minorgridcolor": "white",
             "startlinecolor": "#2a3f5f"
            },
            "type": "carpet"
           }
          ],
          "choropleth": [
           {
            "colorbar": {
             "outlinewidth": 0,
             "ticks": ""
            },
            "type": "choropleth"
           }
          ],
          "contour": [
           {
            "colorbar": {
             "outlinewidth": 0,
             "ticks": ""
            },
            "colorscale": [
             [
              0,
              "#0d0887"
             ],
             [
              0.1111111111111111,
              "#46039f"
             ],
             [
              0.2222222222222222,
              "#7201a8"
             ],
             [
              0.3333333333333333,
              "#9c179e"
             ],
             [
              0.4444444444444444,
              "#bd3786"
             ],
             [
              0.5555555555555556,
              "#d8576b"
             ],
             [
              0.6666666666666666,
              "#ed7953"
             ],
             [
              0.7777777777777778,
              "#fb9f3a"
             ],
             [
              0.8888888888888888,
              "#fdca26"
             ],
             [
              1,
              "#f0f921"
             ]
            ],
            "type": "contour"
           }
          ],
          "contourcarpet": [
           {
            "colorbar": {
             "outlinewidth": 0,
             "ticks": ""
            },
            "type": "contourcarpet"
           }
          ],
          "heatmap": [
           {
            "colorbar": {
             "outlinewidth": 0,
             "ticks": ""
            },
            "colorscale": [
             [
              0,
              "#0d0887"
             ],
             [
              0.1111111111111111,
              "#46039f"
             ],
             [
              0.2222222222222222,
              "#7201a8"
             ],
             [
              0.3333333333333333,
              "#9c179e"
             ],
             [
              0.4444444444444444,
              "#bd3786"
             ],
             [
              0.5555555555555556,
              "#d8576b"
             ],
             [
              0.6666666666666666,
              "#ed7953"
             ],
             [
              0.7777777777777778,
              "#fb9f3a"
             ],
             [
              0.8888888888888888,
              "#fdca26"
             ],
             [
              1,
              "#f0f921"
             ]
            ],
            "type": "heatmap"
           }
          ],
          "heatmapgl": [
           {
            "colorbar": {
             "outlinewidth": 0,
             "ticks": ""
            },
            "colorscale": [
             [
              0,
              "#0d0887"
             ],
             [
              0.1111111111111111,
              "#46039f"
             ],
             [
              0.2222222222222222,
              "#7201a8"
             ],
             [
              0.3333333333333333,
              "#9c179e"
             ],
             [
              0.4444444444444444,
              "#bd3786"
             ],
             [
              0.5555555555555556,
              "#d8576b"
             ],
             [
              0.6666666666666666,
              "#ed7953"
             ],
             [
              0.7777777777777778,
              "#fb9f3a"
             ],
             [
              0.8888888888888888,
              "#fdca26"
             ],
             [
              1,
              "#f0f921"
             ]
            ],
            "type": "heatmapgl"
           }
          ],
          "histogram": [
           {
            "marker": {
             "pattern": {
              "fillmode": "overlay",
              "size": 10,
              "solidity": 0.2
             }
            },
            "type": "histogram"
           }
          ],
          "histogram2d": [
           {
            "colorbar": {
             "outlinewidth": 0,
             "ticks": ""
            },
            "colorscale": [
             [
              0,
              "#0d0887"
             ],
             [
              0.1111111111111111,
              "#46039f"
             ],
             [
              0.2222222222222222,
              "#7201a8"
             ],
             [
              0.3333333333333333,
              "#9c179e"
             ],
             [
              0.4444444444444444,
              "#bd3786"
             ],
             [
              0.5555555555555556,
              "#d8576b"
             ],
             [
              0.6666666666666666,
              "#ed7953"
             ],
             [
              0.7777777777777778,
              "#fb9f3a"
             ],
             [
              0.8888888888888888,
              "#fdca26"
             ],
             [
              1,
              "#f0f921"
             ]
            ],
            "type": "histogram2d"
           }
          ],
          "histogram2dcontour": [
           {
            "colorbar": {
             "outlinewidth": 0,
             "ticks": ""
            },
            "colorscale": [
             [
              0,
              "#0d0887"
             ],
             [
              0.1111111111111111,
              "#46039f"
             ],
             [
              0.2222222222222222,
              "#7201a8"
             ],
             [
              0.3333333333333333,
              "#9c179e"
             ],
             [
              0.4444444444444444,
              "#bd3786"
             ],
             [
              0.5555555555555556,
              "#d8576b"
             ],
             [
              0.6666666666666666,
              "#ed7953"
             ],
             [
              0.7777777777777778,
              "#fb9f3a"
             ],
             [
              0.8888888888888888,
              "#fdca26"
             ],
             [
              1,
              "#f0f921"
             ]
            ],
            "type": "histogram2dcontour"
           }
          ],
          "mesh3d": [
           {
            "colorbar": {
             "outlinewidth": 0,
             "ticks": ""
            },
            "type": "mesh3d"
           }
          ],
          "parcoords": [
           {
            "line": {
             "colorbar": {
              "outlinewidth": 0,
              "ticks": ""
             }
            },
            "type": "parcoords"
           }
          ],
          "pie": [
           {
            "automargin": true,
            "type": "pie"
           }
          ],
          "scatter": [
           {
            "marker": {
             "colorbar": {
              "outlinewidth": 0,
              "ticks": ""
             }
            },
            "type": "scatter"
           }
          ],
          "scatter3d": [
           {
            "line": {
             "colorbar": {
              "outlinewidth": 0,
              "ticks": ""
             }
            },
            "marker": {
             "colorbar": {
              "outlinewidth": 0,
              "ticks": ""
             }
            },
            "type": "scatter3d"
           }
          ],
          "scattercarpet": [
           {
            "marker": {
             "colorbar": {
              "outlinewidth": 0,
              "ticks": ""
             }
            },
            "type": "scattercarpet"
           }
          ],
          "scattergeo": [
           {
            "marker": {
             "colorbar": {
              "outlinewidth": 0,
              "ticks": ""
             }
            },
            "type": "scattergeo"
           }
          ],
          "scattergl": [
           {
            "marker": {
             "colorbar": {
              "outlinewidth": 0,
              "ticks": ""
             }
            },
            "type": "scattergl"
           }
          ],
          "scattermapbox": [
           {
            "marker": {
             "colorbar": {
              "outlinewidth": 0,
              "ticks": ""
             }
            },
            "type": "scattermapbox"
           }
          ],
          "scatterpolar": [
           {
            "marker": {
             "colorbar": {
              "outlinewidth": 0,
              "ticks": ""
             }
            },
            "type": "scatterpolar"
           }
          ],
          "scatterpolargl": [
           {
            "marker": {
             "colorbar": {
              "outlinewidth": 0,
              "ticks": ""
             }
            },
            "type": "scatterpolargl"
           }
          ],
          "scatterternary": [
           {
            "marker": {
             "colorbar": {
              "outlinewidth": 0,
              "ticks": ""
             }
            },
            "type": "scatterternary"
           }
          ],
          "surface": [
           {
            "colorbar": {
             "outlinewidth": 0,
             "ticks": ""
            },
            "colorscale": [
             [
              0,
              "#0d0887"
             ],
             [
              0.1111111111111111,
              "#46039f"
             ],
             [
              0.2222222222222222,
              "#7201a8"
             ],
             [
              0.3333333333333333,
              "#9c179e"
             ],
             [
              0.4444444444444444,
              "#bd3786"
             ],
             [
              0.5555555555555556,
              "#d8576b"
             ],
             [
              0.6666666666666666,
              "#ed7953"
             ],
             [
              0.7777777777777778,
              "#fb9f3a"
             ],
             [
              0.8888888888888888,
              "#fdca26"
             ],
             [
              1,
              "#f0f921"
             ]
            ],
            "type": "surface"
           }
          ],
          "table": [
           {
            "cells": {
             "fill": {
              "color": "#EBF0F8"
             },
             "line": {
              "color": "white"
             }
            },
            "header": {
             "fill": {
              "color": "#C8D4E3"
             },
             "line": {
              "color": "white"
             }
            },
            "type": "table"
           }
          ]
         },
         "layout": {
          "annotationdefaults": {
           "arrowcolor": "#2a3f5f",
           "arrowhead": 0,
           "arrowwidth": 1
          },
          "autotypenumbers": "strict",
          "coloraxis": {
           "colorbar": {
            "outlinewidth": 0,
            "ticks": ""
           }
          },
          "colorscale": {
           "diverging": [
            [
             0,
             "#8e0152"
            ],
            [
             0.1,
             "#c51b7d"
            ],
            [
             0.2,
             "#de77ae"
            ],
            [
             0.3,
             "#f1b6da"
            ],
            [
             0.4,
             "#fde0ef"
            ],
            [
             0.5,
             "#f7f7f7"
            ],
            [
             0.6,
             "#e6f5d0"
            ],
            [
             0.7,
             "#b8e186"
            ],
            [
             0.8,
             "#7fbc41"
            ],
            [
             0.9,
             "#4d9221"
            ],
            [
             1,
             "#276419"
            ]
           ],
           "sequential": [
            [
             0,
             "#0d0887"
            ],
            [
             0.1111111111111111,
             "#46039f"
            ],
            [
             0.2222222222222222,
             "#7201a8"
            ],
            [
             0.3333333333333333,
             "#9c179e"
            ],
            [
             0.4444444444444444,
             "#bd3786"
            ],
            [
             0.5555555555555556,
             "#d8576b"
            ],
            [
             0.6666666666666666,
             "#ed7953"
            ],
            [
             0.7777777777777778,
             "#fb9f3a"
            ],
            [
             0.8888888888888888,
             "#fdca26"
            ],
            [
             1,
             "#f0f921"
            ]
           ],
           "sequentialminus": [
            [
             0,
             "#0d0887"
            ],
            [
             0.1111111111111111,
             "#46039f"
            ],
            [
             0.2222222222222222,
             "#7201a8"
            ],
            [
             0.3333333333333333,
             "#9c179e"
            ],
            [
             0.4444444444444444,
             "#bd3786"
            ],
            [
             0.5555555555555556,
             "#d8576b"
            ],
            [
             0.6666666666666666,
             "#ed7953"
            ],
            [
             0.7777777777777778,
             "#fb9f3a"
            ],
            [
             0.8888888888888888,
             "#fdca26"
            ],
            [
             1,
             "#f0f921"
            ]
           ]
          },
          "colorway": [
           "#636efa",
           "#EF553B",
           "#00cc96",
           "#ab63fa",
           "#FFA15A",
           "#19d3f3",
           "#FF6692",
           "#B6E880",
           "#FF97FF",
           "#FECB52"
          ],
          "font": {
           "color": "#2a3f5f"
          },
          "geo": {
           "bgcolor": "white",
           "lakecolor": "white",
           "landcolor": "#E5ECF6",
           "showlakes": true,
           "showland": true,
           "subunitcolor": "white"
          },
          "hoverlabel": {
           "align": "left"
          },
          "hovermode": "closest",
          "mapbox": {
           "style": "light"
          },
          "paper_bgcolor": "white",
          "plot_bgcolor": "#E5ECF6",
          "polar": {
           "angularaxis": {
            "gridcolor": "white",
            "linecolor": "white",
            "ticks": ""
           },
           "bgcolor": "#E5ECF6",
           "radialaxis": {
            "gridcolor": "white",
            "linecolor": "white",
            "ticks": ""
           }
          },
          "scene": {
           "xaxis": {
            "backgroundcolor": "#E5ECF6",
            "gridcolor": "white",
            "gridwidth": 2,
            "linecolor": "white",
            "showbackground": true,
            "ticks": "",
            "zerolinecolor": "white"
           },
           "yaxis": {
            "backgroundcolor": "#E5ECF6",
            "gridcolor": "white",
            "gridwidth": 2,
            "linecolor": "white",
            "showbackground": true,
            "ticks": "",
            "zerolinecolor": "white"
           },
           "zaxis": {
            "backgroundcolor": "#E5ECF6",
            "gridcolor": "white",
            "gridwidth": 2,
            "linecolor": "white",
            "showbackground": true,
            "ticks": "",
            "zerolinecolor": "white"
           }
          },
          "shapedefaults": {
           "line": {
            "color": "#2a3f5f"
           }
          },
          "ternary": {
           "aaxis": {
            "gridcolor": "white",
            "linecolor": "white",
            "ticks": ""
           },
           "baxis": {
            "gridcolor": "white",
            "linecolor": "white",
            "ticks": ""
           },
           "bgcolor": "#E5ECF6",
           "caxis": {
            "gridcolor": "white",
            "linecolor": "white",
            "ticks": ""
           }
          },
          "title": {
           "x": 0.05
          },
          "xaxis": {
           "automargin": true,
           "gridcolor": "white",
           "linecolor": "white",
           "ticks": "",
           "title": {
            "standoff": 15
           },
           "zerolinecolor": "white",
           "zerolinewidth": 2
          },
          "yaxis": {
           "automargin": true,
           "gridcolor": "white",
           "linecolor": "white",
           "ticks": "",
           "title": {
            "standoff": 15
           },
           "zerolinecolor": "white",
           "zerolinewidth": 2
          }
         }
        }
       }
      },
      "text/html": [
       "<div>                            <div id=\"53e2d2cf-3dd3-4040-9f9d-3ed2346db583\" class=\"plotly-graph-div\" style=\"height:525px; width:100%;\"></div>            <script type=\"text/javascript\">                require([\"plotly\"], function(Plotly) {                    window.PLOTLYENV=window.PLOTLYENV || {};                                    if (document.getElementById(\"53e2d2cf-3dd3-4040-9f9d-3ed2346db583\")) {                    Plotly.newPlot(                        \"53e2d2cf-3dd3-4040-9f9d-3ed2346db583\",                        [{\"fill\":\"toself\",\"x\":[10,100,100,10,10,20,90,90,20,20],\"y\":[10,10,100,100,10,20,20,90,90,20],\"type\":\"scatter\"}],                        {\"template\":{\"data\":{\"bar\":[{\"error_x\":{\"color\":\"#2a3f5f\"},\"error_y\":{\"color\":\"#2a3f5f\"},\"marker\":{\"line\":{\"color\":\"#E5ECF6\",\"width\":0.5},\"pattern\":{\"fillmode\":\"overlay\",\"size\":10,\"solidity\":0.2}},\"type\":\"bar\"}],\"barpolar\":[{\"marker\":{\"line\":{\"color\":\"#E5ECF6\",\"width\":0.5},\"pattern\":{\"fillmode\":\"overlay\",\"size\":10,\"solidity\":0.2}},\"type\":\"barpolar\"}],\"carpet\":[{\"aaxis\":{\"endlinecolor\":\"#2a3f5f\",\"gridcolor\":\"white\",\"linecolor\":\"white\",\"minorgridcolor\":\"white\",\"startlinecolor\":\"#2a3f5f\"},\"baxis\":{\"endlinecolor\":\"#2a3f5f\",\"gridcolor\":\"white\",\"linecolor\":\"white\",\"minorgridcolor\":\"white\",\"startlinecolor\":\"#2a3f5f\"},\"type\":\"carpet\"}],\"choropleth\":[{\"colorbar\":{\"outlinewidth\":0,\"ticks\":\"\"},\"type\":\"choropleth\"}],\"contour\":[{\"colorbar\":{\"outlinewidth\":0,\"ticks\":\"\"},\"colorscale\":[[0.0,\"#0d0887\"],[0.1111111111111111,\"#46039f\"],[0.2222222222222222,\"#7201a8\"],[0.3333333333333333,\"#9c179e\"],[0.4444444444444444,\"#bd3786\"],[0.5555555555555556,\"#d8576b\"],[0.6666666666666666,\"#ed7953\"],[0.7777777777777778,\"#fb9f3a\"],[0.8888888888888888,\"#fdca26\"],[1.0,\"#f0f921\"]],\"type\":\"contour\"}],\"contourcarpet\":[{\"colorbar\":{\"outlinewidth\":0,\"ticks\":\"\"},\"type\":\"contourcarpet\"}],\"heatmap\":[{\"colorbar\":{\"outlinewidth\":0,\"ticks\":\"\"},\"colorscale\":[[0.0,\"#0d0887\"],[0.1111111111111111,\"#46039f\"],[0.2222222222222222,\"#7201a8\"],[0.3333333333333333,\"#9c179e\"],[0.4444444444444444,\"#bd3786\"],[0.5555555555555556,\"#d8576b\"],[0.6666666666666666,\"#ed7953\"],[0.7777777777777778,\"#fb9f3a\"],[0.8888888888888888,\"#fdca26\"],[1.0,\"#f0f921\"]],\"type\":\"heatmap\"}],\"heatmapgl\":[{\"colorbar\":{\"outlinewidth\":0,\"ticks\":\"\"},\"colorscale\":[[0.0,\"#0d0887\"],[0.1111111111111111,\"#46039f\"],[0.2222222222222222,\"#7201a8\"],[0.3333333333333333,\"#9c179e\"],[0.4444444444444444,\"#bd3786\"],[0.5555555555555556,\"#d8576b\"],[0.6666666666666666,\"#ed7953\"],[0.7777777777777778,\"#fb9f3a\"],[0.8888888888888888,\"#fdca26\"],[1.0,\"#f0f921\"]],\"type\":\"heatmapgl\"}],\"histogram\":[{\"marker\":{\"pattern\":{\"fillmode\":\"overlay\",\"size\":10,\"solidity\":0.2}},\"type\":\"histogram\"}],\"histogram2d\":[{\"colorbar\":{\"outlinewidth\":0,\"ticks\":\"\"},\"colorscale\":[[0.0,\"#0d0887\"],[0.1111111111111111,\"#46039f\"],[0.2222222222222222,\"#7201a8\"],[0.3333333333333333,\"#9c179e\"],[0.4444444444444444,\"#bd3786\"],[0.5555555555555556,\"#d8576b\"],[0.6666666666666666,\"#ed7953\"],[0.7777777777777778,\"#fb9f3a\"],[0.8888888888888888,\"#fdca26\"],[1.0,\"#f0f921\"]],\"type\":\"histogram2d\"}],\"histogram2dcontour\":[{\"colorbar\":{\"outlinewidth\":0,\"ticks\":\"\"},\"colorscale\":[[0.0,\"#0d0887\"],[0.1111111111111111,\"#46039f\"],[0.2222222222222222,\"#7201a8\"],[0.3333333333333333,\"#9c179e\"],[0.4444444444444444,\"#bd3786\"],[0.5555555555555556,\"#d8576b\"],[0.6666666666666666,\"#ed7953\"],[0.7777777777777778,\"#fb9f3a\"],[0.8888888888888888,\"#fdca26\"],[1.0,\"#f0f921\"]],\"type\":\"histogram2dcontour\"}],\"mesh3d\":[{\"colorbar\":{\"outlinewidth\":0,\"ticks\":\"\"},\"type\":\"mesh3d\"}],\"parcoords\":[{\"line\":{\"colorbar\":{\"outlinewidth\":0,\"ticks\":\"\"}},\"type\":\"parcoords\"}],\"pie\":[{\"automargin\":true,\"type\":\"pie\"}],\"scatter\":[{\"marker\":{\"colorbar\":{\"outlinewidth\":0,\"ticks\":\"\"}},\"type\":\"scatter\"}],\"scatter3d\":[{\"line\":{\"colorbar\":{\"outlinewidth\":0,\"ticks\":\"\"}},\"marker\":{\"colorbar\":{\"outlinewidth\":0,\"ticks\":\"\"}},\"type\":\"scatter3d\"}],\"scattercarpet\":[{\"marker\":{\"colorbar\":{\"outlinewidth\":0,\"ticks\":\"\"}},\"type\":\"scattercarpet\"}],\"scattergeo\":[{\"marker\":{\"colorbar\":{\"outlinewidth\":0,\"ticks\":\"\"}},\"type\":\"scattergeo\"}],\"scattergl\":[{\"marker\":{\"colorbar\":{\"outlinewidth\":0,\"ticks\":\"\"}},\"type\":\"scattergl\"}],\"scattermapbox\":[{\"marker\":{\"colorbar\":{\"outlinewidth\":0,\"ticks\":\"\"}},\"type\":\"scattermapbox\"}],\"scatterpolar\":[{\"marker\":{\"colorbar\":{\"outlinewidth\":0,\"ticks\":\"\"}},\"type\":\"scatterpolar\"}],\"scatterpolargl\":[{\"marker\":{\"colorbar\":{\"outlinewidth\":0,\"ticks\":\"\"}},\"type\":\"scatterpolargl\"}],\"scatterternary\":[{\"marker\":{\"colorbar\":{\"outlinewidth\":0,\"ticks\":\"\"}},\"type\":\"scatterternary\"}],\"surface\":[{\"colorbar\":{\"outlinewidth\":0,\"ticks\":\"\"},\"colorscale\":[[0.0,\"#0d0887\"],[0.1111111111111111,\"#46039f\"],[0.2222222222222222,\"#7201a8\"],[0.3333333333333333,\"#9c179e\"],[0.4444444444444444,\"#bd3786\"],[0.5555555555555556,\"#d8576b\"],[0.6666666666666666,\"#ed7953\"],[0.7777777777777778,\"#fb9f3a\"],[0.8888888888888888,\"#fdca26\"],[1.0,\"#f0f921\"]],\"type\":\"surface\"}],\"table\":[{\"cells\":{\"fill\":{\"color\":\"#EBF0F8\"},\"line\":{\"color\":\"white\"}},\"header\":{\"fill\":{\"color\":\"#C8D4E3\"},\"line\":{\"color\":\"white\"}},\"type\":\"table\"}]},\"layout\":{\"annotationdefaults\":{\"arrowcolor\":\"#2a3f5f\",\"arrowhead\":0,\"arrowwidth\":1},\"autotypenumbers\":\"strict\",\"coloraxis\":{\"colorbar\":{\"outlinewidth\":0,\"ticks\":\"\"}},\"colorscale\":{\"diverging\":[[0,\"#8e0152\"],[0.1,\"#c51b7d\"],[0.2,\"#de77ae\"],[0.3,\"#f1b6da\"],[0.4,\"#fde0ef\"],[0.5,\"#f7f7f7\"],[0.6,\"#e6f5d0\"],[0.7,\"#b8e186\"],[0.8,\"#7fbc41\"],[0.9,\"#4d9221\"],[1,\"#276419\"]],\"sequential\":[[0.0,\"#0d0887\"],[0.1111111111111111,\"#46039f\"],[0.2222222222222222,\"#7201a8\"],[0.3333333333333333,\"#9c179e\"],[0.4444444444444444,\"#bd3786\"],[0.5555555555555556,\"#d8576b\"],[0.6666666666666666,\"#ed7953\"],[0.7777777777777778,\"#fb9f3a\"],[0.8888888888888888,\"#fdca26\"],[1.0,\"#f0f921\"]],\"sequentialminus\":[[0.0,\"#0d0887\"],[0.1111111111111111,\"#46039f\"],[0.2222222222222222,\"#7201a8\"],[0.3333333333333333,\"#9c179e\"],[0.4444444444444444,\"#bd3786\"],[0.5555555555555556,\"#d8576b\"],[0.6666666666666666,\"#ed7953\"],[0.7777777777777778,\"#fb9f3a\"],[0.8888888888888888,\"#fdca26\"],[1.0,\"#f0f921\"]]},\"colorway\":[\"#636efa\",\"#EF553B\",\"#00cc96\",\"#ab63fa\",\"#FFA15A\",\"#19d3f3\",\"#FF6692\",\"#B6E880\",\"#FF97FF\",\"#FECB52\"],\"font\":{\"color\":\"#2a3f5f\"},\"geo\":{\"bgcolor\":\"white\",\"lakecolor\":\"white\",\"landcolor\":\"#E5ECF6\",\"showlakes\":true,\"showland\":true,\"subunitcolor\":\"white\"},\"hoverlabel\":{\"align\":\"left\"},\"hovermode\":\"closest\",\"mapbox\":{\"style\":\"light\"},\"paper_bgcolor\":\"white\",\"plot_bgcolor\":\"#E5ECF6\",\"polar\":{\"angularaxis\":{\"gridcolor\":\"white\",\"linecolor\":\"white\",\"ticks\":\"\"},\"bgcolor\":\"#E5ECF6\",\"radialaxis\":{\"gridcolor\":\"white\",\"linecolor\":\"white\",\"ticks\":\"\"}},\"scene\":{\"xaxis\":{\"backgroundcolor\":\"#E5ECF6\",\"gridcolor\":\"white\",\"gridwidth\":2,\"linecolor\":\"white\",\"showbackground\":true,\"ticks\":\"\",\"zerolinecolor\":\"white\"},\"yaxis\":{\"backgroundcolor\":\"#E5ECF6\",\"gridcolor\":\"white\",\"gridwidth\":2,\"linecolor\":\"white\",\"showbackground\":true,\"ticks\":\"\",\"zerolinecolor\":\"white\"},\"zaxis\":{\"backgroundcolor\":\"#E5ECF6\",\"gridcolor\":\"white\",\"gridwidth\":2,\"linecolor\":\"white\",\"showbackground\":true,\"ticks\":\"\",\"zerolinecolor\":\"white\"}},\"shapedefaults\":{\"line\":{\"color\":\"#2a3f5f\"}},\"ternary\":{\"aaxis\":{\"gridcolor\":\"white\",\"linecolor\":\"white\",\"ticks\":\"\"},\"baxis\":{\"gridcolor\":\"white\",\"linecolor\":\"white\",\"ticks\":\"\"},\"bgcolor\":\"#E5ECF6\",\"caxis\":{\"gridcolor\":\"white\",\"linecolor\":\"white\",\"ticks\":\"\"}},\"title\":{\"x\":0.05},\"xaxis\":{\"automargin\":true,\"gridcolor\":\"white\",\"linecolor\":\"white\",\"ticks\":\"\",\"title\":{\"standoff\":15},\"zerolinecolor\":\"white\",\"zerolinewidth\":2},\"yaxis\":{\"automargin\":true,\"gridcolor\":\"white\",\"linecolor\":\"white\",\"ticks\":\"\",\"title\":{\"standoff\":15},\"zerolinecolor\":\"white\",\"zerolinewidth\":2}}}},                        {\"responsive\": true}                    ).then(function(){\n",
       "                            \n",
       "var gd = document.getElementById('53e2d2cf-3dd3-4040-9f9d-3ed2346db583');\n",
       "var x = new MutationObserver(function (mutations, observer) {{\n",
       "        var display = window.getComputedStyle(gd).display;\n",
       "        if (!display || display === 'none') {{\n",
       "            console.log([gd, 'removed!']);\n",
       "            Plotly.purge(gd);\n",
       "            observer.disconnect();\n",
       "        }}\n",
       "}});\n",
       "\n",
       "// Listen for the removal of the full notebook cells\n",
       "var notebookContainer = gd.closest('#notebook-container');\n",
       "if (notebookContainer) {{\n",
       "    x.observe(notebookContainer, {childList: true});\n",
       "}}\n",
       "\n",
       "// Listen for the clearing of the current output cell\n",
       "var outputEl = gd.closest('.output');\n",
       "if (outputEl) {{\n",
       "    x.observe(outputEl, {childList: true});\n",
       "}}\n",
       "\n",
       "                        })                };                });            </script>        </div>"
      ]
     },
     "metadata": {},
     "output_type": "display_data"
    }
   ],
   "source": [
    "fig = go.Figure(go.Scatter(x=x1,y=y1,fill='toself'))\n",
    "fig.show()"
   ]
  },
  {
   "cell_type": "code",
   "execution_count": 2,
   "id": "e1fee089",
   "metadata": {},
   "outputs": [],
   "source": [
    "pen = t.Turtle()\n",
    "t.bgcolor('#red')\n",
    "t.delay(60)\n",
    "pen.color('#ffe4e1')\n",
    "pen.begin_fill()\n",
    "pen.left(40)\n",
    "pen.forward(120)\n",
    "pen.circle(80, 190)\n",
    "pen.right(100)\n",
    "pen.circle(80, 180)\n",
    "pen.forward(160)\n",
    "pen.left(90)\n",
    "pen.forward(50)\n",
    "pen.setpos(-60, 100)\n",
    "pen.end_fill()\n",
    "def txt():\n",
    "    pen.up()\n",
    "    pen.setpos(-60, 100)\n",
    "    pen.color('red')\n",
    "    pen.write('I LoVe PyThON', font=(\"Comic Sans MS\", 16))\n",
    "txt()\n",
    "pen.end_fill()\n",
    "t.exitonclick()"
   ]
  },
  {
   "cell_type": "code",
   "execution_count": null,
   "id": "df42350b",
   "metadata": {},
   "outputs": [],
   "source": []
  },
  {
   "cell_type": "code",
   "execution_count": null,
   "id": "20b95ebd",
   "metadata": {},
   "outputs": [],
   "source": []
  },
  {
   "cell_type": "code",
   "execution_count": null,
   "id": "56ffdeed",
   "metadata": {},
   "outputs": [],
   "source": []
  },
  {
   "cell_type": "code",
   "execution_count": null,
   "id": "8f39b705",
   "metadata": {},
   "outputs": [],
   "source": []
  },
  {
   "cell_type": "code",
   "execution_count": null,
   "id": "c6dd589e",
   "metadata": {},
   "outputs": [],
   "source": []
  },
  {
   "cell_type": "code",
   "execution_count": null,
   "id": "4b7e7cf0",
   "metadata": {},
   "outputs": [],
   "source": []
  },
  {
   "cell_type": "code",
   "execution_count": 2,
   "id": "aac44532",
   "metadata": {},
   "outputs": [],
   "source": [
    "def build_banner():\n",
    "    return html.Div(\n",
    "        id=\"banner\",\n",
    "        className=\"banner\",\n",
    "        children=[\n",
    "            html.Img(src=app.get_asset_url(\"dash-logo.png\")),\n",
    "            html.H6(\"Oil and gas ternary map\"),\n",
    "        ],\n",
    "    )"
   ]
  },
  {
   "cell_type": "code",
   "execution_count": 3,
   "id": "7771d87c",
   "metadata": {},
   "outputs": [],
   "source": [
    "def build_graph_title(title):\n",
    "    return html.P(className=\"graph-title\", children=title)"
   ]
  },
  {
   "cell_type": "code",
   "execution_count": 4,
   "id": "45ef1c2b",
   "metadata": {},
   "outputs": [],
   "source": [
    "def generate_production_plot(processed_data):\n",
    "    \"\"\"\n",
    "    :param processed_data: List containing two lists, one containing well ID information, and the second containing\n",
    "    rock formation type associated with the well\n",
    "    :return: Figure object\n",
    "    \"\"\"\n",
    "    layout = dict(\n",
    "        xaxis=dict(title=\"Year\"), yaxis=dict(title=\"GAS Production (mcf)\", type=\"log\")\n",
    "    )\n",
    "\n",
    "    data = []\n",
    "    for well_id, formation in list(\n",
    "        zip(processed_data[\"well_id\"], processed_data[\"formation\"])\n",
    "    ):\n",
    "        well_prod = df_prod[df_prod[\"RecordNumber\"] == well_id]\n",
    "        new_trace = dict(\n",
    "            x=well_prod[\"Year\"],\n",
    "            y=well_prod[\"VolumeMCF\"],\n",
    "            name=str(well_id),\n",
    "            mode=\"lines+markers\",\n",
    "            hoverinfo=\"x+y+name\",\n",
    "            marker=dict(\n",
    "                symbol=\"hexagram-open\", line={\"width\": \"0.5\"}, color=colormap[formation]\n",
    "            ),\n",
    "            line=dict(shape=\"spline\"),\n",
    "            showlegend=True,\n",
    "        )\n",
    "        data.append(new_trace)\n",
    "    return {\"data\": data, \"layout\": layout}"
   ]
  },
  {
   "cell_type": "code",
   "execution_count": 5,
   "id": "507fe605",
   "metadata": {},
   "outputs": [],
   "source": [
    "def generate_well_map(dff, selected_data, style):\n",
    "    \"\"\"\n",
    "    Generate well map based on selected data.\n",
    "    :param dff: dataframe for generate plot.\n",
    "    :param selected_data: Processed dictionary for plot generation with defined selected points.\n",
    "    :param style: mapbox visual style.\n",
    "    :return: Plotly figure object.\n",
    "    \"\"\"\n",
    "\n",
    "    layout = go.Layout(\n",
    "        clickmode=\"event+select\",\n",
    "        dragmode=\"lasso\",\n",
    "        showlegend=True,\n",
    "        autosize=True,\n",
    "        hovermode=\"closest\",\n",
    "        margin=dict(l=0, r=0, t=0, b=0),\n",
    "        mapbox=go.layout.Mapbox(\n",
    "            accesstoken=mapbox_access_token,\n",
    "            bearing=0,\n",
    "            center=go.layout.mapbox.Center(lat=37.497562, lon=-82.755728),\n",
    "            pitch=0,\n",
    "            zoom=8,\n",
    "            style=style,\n",
    "        ),\n",
    "        legend=dict(\n",
    "            bgcolor=\"#1f2c56\",\n",
    "            orientation=\"h\",\n",
    "            font=dict(color=\"white\"),\n",
    "            x=0,\n",
    "            y=0,\n",
    "            yanchor=\"bottom\",\n",
    "        ),\n",
    "    )\n",
    "\n",
    "    formations = dff[\"fm_name\"].unique().tolist()\n",
    "\n",
    "    data = []\n",
    "\n",
    "    for formation in formations:\n",
    "        selected_index = None\n",
    "        if formation in selected_data:\n",
    "            selected_index = selected_data[formation]\n",
    "\n",
    "        text_list = list(\n",
    "            map(\n",
    "                lambda item: \"Well ID:\" + str(int(item)),\n",
    "                dff[dff[\"fm_name\"] == formation][\"RecordNumber\"],\n",
    "            )\n",
    "        )\n",
    "        op_list = dff[dff[\"fm_name\"] == formation][\"op\"].tolist()\n",
    "\n",
    "        text_list = [op_list[i] + \"<br>\" + text_list[i] for i in range(len(text_list))]\n",
    "\n",
    "        new_trace = go.Scattermapbox(\n",
    "            lat=dff[dff[\"fm_name\"] == formation][\"nlat83\"],\n",
    "            lon=dff[dff[\"fm_name\"] == formation][\"wlon83\"],\n",
    "            mode=\"markers\",\n",
    "            marker={\"color\": colormap[formation], \"size\": 9},\n",
    "            text=text_list,\n",
    "            name=formation,\n",
    "            selectedpoints=selected_index,\n",
    "            customdata=dff[dff[\"fm_name\"] == formation][\"RecordNumber\"],\n",
    "        )\n",
    "        data.append(new_trace)\n",
    "\n",
    "    return {\"data\": data, \"layout\": layout}"
   ]
  },
  {
   "cell_type": "code",
   "execution_count": 6,
   "id": "26145461",
   "metadata": {},
   "outputs": [],
   "source": [
    "def generate_ternary_map(dff, selected_data, contour_visible, marker_visible):\n",
    "    \"\"\"\n",
    "    Generate ternary plot based on selected data.\n",
    "    :param dff: dataframe for generate plot.\n",
    "    :param selected_data: Processed dictionary for plot generation with defined selected points.\n",
    "    :param contour_visible: Contour trace visibility.\n",
    "    :param marker_visible: Marker trace visibility.\n",
    "    :return: ternary map figure object.\n",
    "    \"\"\"\n",
    "\n",
    "    # Generate contour\n",
    "\n",
    "    contour_traces = []\n",
    "    for ind, key in enumerate(constants.ternary_contour.keys()):\n",
    "        trace = dict(\n",
    "            name=key,\n",
    "            type=\"scatterternary\",\n",
    "            a=[k[\"Quartz\"] for k in constants.ternary_contour[key]],\n",
    "            b=[k[\"Carbonate\"] for k in constants.ternary_contour[key]],\n",
    "            c=[k[\"Clay\"] for k in constants.ternary_contour[key]],\n",
    "            mode=\"lines\",\n",
    "            line=dict(color=\"#444\", width=0.5),\n",
    "            fill=\"toself\",\n",
    "            fillcolor=constants.ternary_color[ind],\n",
    "            opacity=0.8,\n",
    "            hoverinfo=\"none\",\n",
    "            showlegend=False,\n",
    "            visible=contour_visible,\n",
    "        )\n",
    "        contour_traces.append(trace)\n",
    "\n",
    "    contour_text = generate_contour_text_layer(contour_visible)\n",
    "\n",
    "    # Layout\n",
    "    layout = {\n",
    "        \"dragmode\": \"lasso\",\n",
    "        \"ternary\": {\n",
    "            \"sum\": 100,\n",
    "            \"aaxis\": {\n",
    "                \"title\": {\n",
    "                    \"text\": \"Quartz\",\n",
    "                    \"font\": {\"family\": \"Open Sans\", \"size\": 15, \"color\": \"white\"},\n",
    "                },\n",
    "                \"min\": -2,\n",
    "                \"linewidth\": 1.5,\n",
    "                \"ticks\": \"outside\",\n",
    "            },\n",
    "            \"baxis\": {\n",
    "                \"title\": {\n",
    "                    \"text\": \"Carbonate\",\n",
    "                    \"font\": {\"family\": \"Open Sans\", \"size\": 15, \"color\": \"white\"},\n",
    "                },\n",
    "                \"min\": -2,\n",
    "                \"linewidth\": 1.5,\n",
    "                \"ticks\": \"outside\",\n",
    "            },\n",
    "            \"caxis\": {\n",
    "                \"title\": {\n",
    "                    \"text\": \"Clay\",\n",
    "                    \"font\": {\"family\": \"Open Sans\", \"size\": 15, \"color\": \"white\"},\n",
    "                },\n",
    "                \"min\": -2,\n",
    "                \"linewidth\": 1.5,\n",
    "                \"ticks\": \"outside\",\n",
    "            },\n",
    "        },\n",
    "        \"margin\": dict(l=110, r=50, t=50, b=50),\n",
    "        \"paper_bgcolor\": \"#192444\",\n",
    "        \"plot_bgcolor\": \"#192444\",\n",
    "        \"showLegend\": False,\n",
    "        \"font\": {\"color\": \"white\"},\n",
    "        \"annotations\": {\"visible\": False},\n",
    "        \"autosize\": True,\n",
    "    }\n",
    "\n",
    "    hovertemplate = \"<b> %{text}</b><br><br> Quartz: %{a:.0f}<br>Carbonate : %{b:.0f}<br> Clay: %{c:.0f}<extra></extra>\"\n",
    "\n",
    "    formations = dff[\"fm_name\"].unique().tolist()\n",
    "\n",
    "    data_traces = []\n",
    "    for key in formations:\n",
    "        if selected_data:\n",
    "            select_indices = selected_data[key]\n",
    "        else:\n",
    "            select_indices = None\n",
    "\n",
    "        new_data_trace = dict(\n",
    "            text=list(\n",
    "                map(\n",
    "                    lambda item: \"Well ID:\" + str(int(item)),\n",
    "                    dff[dff[\"fm_name\"] == key][\"RecordNumber\"],\n",
    "                )\n",
    "            ),\n",
    "            name=key,\n",
    "            customdata=dff[dff[\"fm_name\"] == key][\"RecordNumber\"],\n",
    "            type=\"scatterternary\",\n",
    "            a=dff[dff[\"fm_name\"] == key][\"Quartz\"],\n",
    "            b=dff[dff[\"fm_name\"] == key][\"Carbonate\"],\n",
    "            c=dff[dff[\"fm_name\"] == key][\"Clay\"],\n",
    "            mode=\"markers\",\n",
    "            hovertemplate=hovertemplate,\n",
    "            showlegend=False,\n",
    "            marker={\n",
    "                \"color\": colormap[key],\n",
    "                \"size\": 8,\n",
    "                \"line\": {\"color\": \"#000000\", \"width\": 0.2},\n",
    "            },\n",
    "            selectedpoints=select_indices,\n",
    "            visible=marker_visible,\n",
    "        )\n",
    "        data_traces.append(new_data_trace)\n",
    "\n",
    "    return {\"data\": contour_traces + contour_text + data_traces, \"layout\": layout}\n"
   ]
  },
  {
   "cell_type": "code",
   "execution_count": 7,
   "id": "f4962dcd",
   "metadata": {},
   "outputs": [],
   "source": [
    "def generate_contour_text_layer(contour_visible):\n",
    "    layer = []\n",
    "    for key, value in constants.ternary_contour.items():\n",
    "        a = np.mean([i[\"Quartz\"] for i in value])\n",
    "        b = np.mean([i[\"Carbonate\"] for i in value])\n",
    "        c = np.mean([i[\"Clay\"] for i in value])\n",
    "\n",
    "        key_br = key.replace(\" \", \"<br>\")\n",
    "\n",
    "        new_trace = generate_contour_text(a, b, c, key, key_br, contour_visible)\n",
    "        layer.append(new_trace)\n",
    "\n",
    "    return layer"
   ]
  },
  {
   "cell_type": "code",
   "execution_count": 8,
   "id": "9dddf107",
   "metadata": {},
   "outputs": [],
   "source": [
    "def generate_contour_text(a, b, c, name, text, visible):\n",
    "    return dict(\n",
    "        type=\"scatterternary\",\n",
    "        a=[a],\n",
    "        b=[b],\n",
    "        c=[c],\n",
    "        name=name,\n",
    "        text=text,\n",
    "        mode=\"text\",\n",
    "        hoverinfo=\"none\",\n",
    "        textposition=\"middle center\",\n",
    "        textfont={\"size\": 11, \"color\": \"#000000\", \"family\": \"sans-serif\"},\n",
    "        showlegend=False,\n",
    "        legendgroup=\"Rock type\",\n",
    "        visible=visible,\n",
    "    )"
   ]
  },
  {
   "cell_type": "code",
   "execution_count": 9,
   "id": "88812b1a",
   "metadata": {},
   "outputs": [],
   "source": [
    "def generate_formation_bar(dff, selected_data):\n",
    "    \"\"\"\n",
    "    Generate bar plot based on selected data.\n",
    "        :param dff: dataframe for generate plot.\n",
    "        :param selected_data: Processed dictionary for plot generation with defined selected points.\n",
    "        :return: ternary map figure object.\n",
    "    \"\"\"\n",
    "\n",
    "    layout = go.Layout(\n",
    "        showlegend=False,\n",
    "        hovermode=\"closest\",\n",
    "        xaxis=dict(tickangle=-45, title=\"Formations\"),\n",
    "        yaxis=dict(title=\"Well Counts\"),\n",
    "        clickmode=\"event+select\",\n",
    "    )\n",
    "\n",
    "    formations = dff[\"fm_name\"].unique().tolist()\n",
    "\n",
    "    if selected_data:\n",
    "        data = []\n",
    "        for i in formations:\n",
    "            selected_points = []\n",
    "            select_indices = selected_data[i]\n",
    "            if select_indices is not None and len(select_indices) > 0:\n",
    "                selected_points = [0]\n",
    "            new_trace = go.Bar(\n",
    "                x=[i],\n",
    "                y=[len(dff[dff[\"fm_name\"] == i])],\n",
    "                name=i,\n",
    "                hoverinfo=\"x+y\",\n",
    "                marker={\"color\": colormap[i]},\n",
    "                selectedpoints=selected_points,\n",
    "            )\n",
    "            data.append(new_trace)\n",
    "\n",
    "    else:\n",
    "        data = []\n",
    "        for i in formations:\n",
    "            new_trace = go.Bar(\n",
    "                x=[i],\n",
    "                y=[len(dff[dff[\"fm_name\"] == i])],\n",
    "                name=i,\n",
    "                marker={\"color\": colormap[i]},\n",
    "                selectedpoints=None,\n",
    "            )\n",
    "            data.append(new_trace)\n",
    "\n",
    "    return {\"data\": data, \"layout\": layout}"
   ]
  },
  {
   "cell_type": "code",
   "execution_count": 10,
   "id": "f243b7fb",
   "metadata": {},
   "outputs": [],
   "source": [
    "# Helper for extracting select index from mapbox and tern selectData\n",
    "def get_selection(data, formation, selection_data, starting_index):\n",
    "    ind = []\n",
    "    current_curve = data[\"fm_name\"].unique().tolist().index(formation)\n",
    "    for point in selection_data[\"points\"]:\n",
    "        if point[\"curveNumber\"] - starting_index == current_curve:\n",
    "            ind.append(point[\"pointNumber\"])\n",
    "    return ind"
   ]
  },
  {
   "cell_type": "code",
   "execution_count": 11,
   "id": "ffe99d09",
   "metadata": {},
   "outputs": [],
   "source": [
    "# Helper for extracting select index from bar\n",
    "def get_selection_by_bar(bar_selected_data):\n",
    "    dict = {}\n",
    "    if bar_selected_data is not None:\n",
    "        for point in bar_selected_data[\"points\"]:\n",
    "            if point[\"x\"] is not None:\n",
    "                dict[(point[\"x\"])] = list(range(0, point[\"y\"]))\n",
    "    return dict"
   ]
  },
  {
   "cell_type": "code",
   "execution_count": 12,
   "id": "51cec088",
   "metadata": {},
   "outputs": [],
   "source": [
    "def update_bar(map_selected_data, tern_selected_data, op_select):\n",
    "    dff = df[df[\"op\"].isin(op_select)]\n",
    "\n",
    "    formations = dff[\"fm_name\"].unique().tolist()\n",
    "    # Find which one has been triggered\n",
    "    ctx = dash.callback_context\n",
    "\n",
    "    prop_id = \"\"\n",
    "    prop_type = \"\"\n",
    "    if ctx.triggered:\n",
    "        splitted = ctx.triggered[0][\"prop_id\"].split(\".\")\n",
    "        prop_id = splitted[0]\n",
    "        prop_type = splitted[1]\n",
    "\n",
    "    processed_data = {}\n",
    "    if prop_id == \"well-map\" and prop_type == \"selectedData\":\n",
    "        for formation in formations:\n",
    "            if map_selected_data is None:\n",
    "                processed_data[formation] = [\n",
    "                    0\n",
    "                ]  # [0] is the default value to select current bar\n",
    "            else:\n",
    "                processed_data[formation] = get_selection(\n",
    "                    dff, formation, map_selected_data, 0\n",
    "                )\n",
    "\n",
    "    elif prop_id == \"ternary-map\" and prop_type == \"selectedData\":\n",
    "\n",
    "        for formation in formations:\n",
    "            if tern_selected_data is None:\n",
    "                processed_data[formation] = [0]\n",
    "            else:\n",
    "                processed_data[formation] = get_selection(\n",
    "                    dff, formation, tern_selected_data, 32\n",
    "                )\n",
    "\n",
    "    else:\n",
    "        for formation in formations:\n",
    "            processed_data[formation] = [0]\n",
    "\n",
    "    return generate_formation_bar(dff, processed_data)"
   ]
  },
  {
   "cell_type": "code",
   "execution_count": 17,
   "id": "3da003ef",
   "metadata": {},
   "outputs": [],
   "source": [
    "def update_well_map(\n",
    "    tern_selected_data, bar_selected_data, bar_click_data, op_select, mapbox_view\n",
    "):\n",
    "    dff = df[df[\"op\"].isin(op_select)]\n",
    "    formations = dff[\"fm_name\"].unique().tolist()\n",
    "\n",
    "    # Find which one has been triggered\n",
    "    ctx = dash.callback_context\n",
    "\n",
    "    prop_id = \"\"\n",
    "    prop_type = \"\"\n",
    "    if ctx.triggered:\n",
    "        splitted = ctx.triggered[0][\"prop_id\"].split(\".\")\n",
    "        prop_id = splitted[0]\n",
    "        prop_type = splitted[1]\n",
    "\n",
    "    processed_data = {}\n",
    "\n",
    "    if prop_id == \"ternary-map\":\n",
    "        for formation in formations:\n",
    "            if tern_selected_data is None:\n",
    "                processed_data[formation] = None\n",
    "            else:\n",
    "                processed_data[formation] = get_selection(\n",
    "                    dff, formation, tern_selected_data, 32\n",
    "                )\n",
    "\n",
    "    elif prop_id == \"form-by-bar\":\n",
    "\n",
    "        bar_data = \"\"\n",
    "        if prop_type == \"selectedData\":\n",
    "            bar_data = bar_selected_data\n",
    "        elif prop_type == \"clickData\":\n",
    "            bar_data = bar_click_data\n",
    "\n",
    "        processed_data = get_selection_by_bar(bar_data)\n",
    "\n",
    "        for formation in formations:\n",
    "            if bar_data is None:\n",
    "                processed_data[formation] = None\n",
    "            elif formation not in processed_data:\n",
    "                processed_data[formation] = []\n",
    "\n",
    "    else:\n",
    "        for formation in formations:\n",
    "            processed_data[formation] = None\n",
    "\n",
    "    return generate_well_map(dff, processed_data, mapbox_view)\n",
    "\n",
    "    if prop_id == \"ternary-layer-select\":\n",
    "            if curr_fig is not None:\n",
    "                if \"Well Data\" not in layer_select:\n",
    "                    marker_visible = \"legendonly\"\n",
    "                if \"Rock Type\" not in layer_select:\n",
    "                    contour_visible = \"legendonly\"\n",
    "\n",
    "                for contour_dict in curr_fig[\"data\"][:32]:\n",
    "                    contour_dict[\"visible\"] = contour_visible\n",
    "\n",
    "                for marker_dict in curr_fig[\"data\"][32:]:\n",
    "                    marker_dict[\"visible\"] = marker_visible\n",
    "                return curr_fig\n",
    "            else:\n",
    "                return curr_fig"
   ]
  },
  {
   "cell_type": "code",
   "execution_count": null,
   "id": "d13b8bf0",
   "metadata": {},
   "outputs": [],
   "source": []
  },
  {
   "cell_type": "code",
   "execution_count": 18,
   "id": "f7a991ad",
   "metadata": {},
   "outputs": [],
   "source": [
    "def update_production(map_select, tern_select, bar_select, op_select):\n",
    "    dff = df[df[\"op\"].isin(op_select)]\n",
    "\n",
    "    # Find which one has been triggered\n",
    "    ctx = dash.callback_context\n",
    "\n",
    "    prop_id = \"\"\n",
    "    prop_type = \"\"\n",
    "    if ctx.triggered:\n",
    "        splitted = ctx.triggered[0][\"prop_id\"].split(\".\")\n",
    "        prop_id = splitted[0]\n",
    "        prop_type = splitted[1]\n",
    "\n",
    "    processed_data_init = {}\n",
    "    processed_data_init[\"well_id\"] = dff[\"RecordNumber\"].tolist()\n",
    "    processed_data_init[\"formation\"] = dff[\"fm_name\"].tolist()\n",
    "\n",
    "    if prop_id == \"well-map\" and prop_type == \"selectedData\":\n",
    "        if map_select is not None:\n",
    "            processed_data = {\"well_id\": [], \"formation\": []}\n",
    "            for point in map_select[\"points\"]:\n",
    "                processed_data[\"well_id\"].append(point[\"customdata\"])\n",
    "                processed_data[\"formation\"].append(\n",
    "                    dff[dff[\"RecordNumber\"] == point[\"customdata\"]][\"fm_name\"].tolist()[\n",
    "                        0\n",
    "                    ]\n",
    "                )\n",
    "        else:\n",
    "            processed_data = processed_data_init\n",
    "\n",
    "    elif prop_id == \"ternary-map\" and prop_type == \"selectedData\":\n",
    "        if tern_select is not None:\n",
    "            processed_data = {\"well_id\": [], \"formation\": []}\n",
    "            for point in tern_select[\"points\"]:\n",
    "                if \"customdata\" in point:\n",
    "                    processed_data[\"well_id\"].append(point[\"customdata\"])\n",
    "                    processed_data[\"formation\"].append(\n",
    "                        dff[dff[\"RecordNumber\"] == point[\"customdata\"]][\n",
    "                            \"fm_name\"\n",
    "                        ].tolist()[0]\n",
    "                    )\n",
    "\n",
    "        else:\n",
    "            processed_data = processed_data_init\n",
    "\n",
    "    elif prop_id == \"form-by-bar\" and prop_type == \"selectedData\":\n",
    "        if bar_select is not None:\n",
    "            processed_data = {\"well_id\": [], \"formation\": []}\n",
    "\n",
    "            # Find all wells according to selected formation category\n",
    "            for point in bar_select[\"points\"]:\n",
    "                selected_form = point[\"x\"]\n",
    "                selected_well = dff[dff[\"fm_name\"] == point[\"x\"]][\n",
    "                    \"RecordNumber\"\n",
    "                ].tolist()\n",
    "                for well in selected_well:\n",
    "                    processed_data[\"well_id\"].append(int(well))\n",
    "                    processed_data[\"formation\"].append(selected_form)\n",
    "\n",
    "        else:\n",
    "            processed_data = processed_data_init\n",
    "    else:\n",
    "        processed_data = processed_data_init\n",
    "\n",
    "    return generate_production_plot(processed_data)"
   ]
  },
  {
   "cell_type": "code",
   "execution_count": 19,
   "id": "f2fa0bb3",
   "metadata": {},
   "outputs": [
    {
     "ename": "NameError",
     "evalue": "name 'dash' is not defined",
     "output_type": "error",
     "traceback": [
      "\u001b[1;31m---------------------------------------------------------------------------\u001b[0m",
      "\u001b[1;31mNameError\u001b[0m                                 Traceback (most recent call last)",
      "\u001b[1;32m~\\AppData\\Local\\Temp/ipykernel_12280/4214466227.py\u001b[0m in \u001b[0;36m<module>\u001b[1;34m\u001b[0m\n\u001b[0;32m      1\u001b[0m \u001b[1;31m# app initialize\u001b[0m\u001b[1;33m\u001b[0m\u001b[1;33m\u001b[0m\u001b[1;33m\u001b[0m\u001b[0m\n\u001b[1;32m----> 2\u001b[1;33m app = dash.Dash(\n\u001b[0m\u001b[0;32m      3\u001b[0m     \u001b[0m__name__\u001b[0m\u001b[1;33m,\u001b[0m\u001b[1;33m\u001b[0m\u001b[1;33m\u001b[0m\u001b[0m\n\u001b[0;32m      4\u001b[0m     meta_tags=[\n\u001b[0;32m      5\u001b[0m         \u001b[1;33m{\u001b[0m\u001b[1;34m\"name\"\u001b[0m\u001b[1;33m:\u001b[0m \u001b[1;34m\"viewport\"\u001b[0m\u001b[1;33m,\u001b[0m \u001b[1;34m\"content\"\u001b[0m\u001b[1;33m:\u001b[0m \u001b[1;34m\"width=device-width, initial-scale=1.0\"\u001b[0m\u001b[1;33m}\u001b[0m\u001b[1;33m\u001b[0m\u001b[1;33m\u001b[0m\u001b[0m\n",
      "\u001b[1;31mNameError\u001b[0m: name 'dash' is not defined"
     ]
    }
   ],
   "source": [
    "# app initialize\n",
    "app = dash.Dash(\n",
    "    __name__,\n",
    "    meta_tags=[\n",
    "        {\"name\": \"viewport\", \"content\": \"width=device-width, initial-scale=1.0\"}\n",
    "    ],\n",
    ")\n",
    "server = app.server\n",
    "app.config[\"suppress_callback_exceptions\"] = True\n",
    "\n",
    "# mapbox\n",
    "mapbox_access_token = \"pk.eyJ1IjoicGxvdGx5bWFwYm94IiwiYSI6ImNrOWJqb2F4djBnMjEzbG50amg0dnJieG4ifQ.Zme1-Uzoi75IaFbieBDl3A\"\n"
   ]
  },
  {
   "cell_type": "code",
   "execution_count": 21,
   "id": "607514f6",
   "metadata": {},
   "outputs": [
    {
     "ename": "SyntaxError",
     "evalue": "invalid syntax (Temp/ipykernel_12280/892479035.py, line 214)",
     "output_type": "error",
     "traceback": [
      "\u001b[1;36m  File \u001b[1;32m\"C:\\Users\\__\\AppData\\Local\\Temp/ipykernel_12280/892479035.py\"\u001b[1;36m, line \u001b[1;32m214\u001b[0m\n\u001b[1;33m    if __name__ == \"__main__\":\u001b[0m\n\u001b[1;37m    ^\u001b[0m\n\u001b[1;31mSyntaxError\u001b[0m\u001b[1;31m:\u001b[0m invalid syntax\n"
     ]
    }
   ],
   "source": [
    "# Load data\n",
    "APP_PATH = str(pathlib.Path(__file__).parent.resolve())\n",
    "\n",
    "df = pd.read_csv(os.path.join(APP_PATH, os.path.join(\"data\", \"test_composition.csv\")))\n",
    "df_prod = pd.read_csv(\n",
    "    os.path.join(APP_PATH, os.path.join(\"data\", \"YearlyProduction_table_1.csv\"))\n",
    ")\n",
    "\n",
    "# Assign color to legend\n",
    "colormap = {}\n",
    "for ind, formation_name in enumerate(df[\"fm_name\"].unique().tolist()):\n",
    "    colormap[formation_name] = constants.colors[ind]\n",
    "\n",
    "\n",
    "app.layout = html.Div(\n",
    "    children=[\n",
    "        html.Div(\n",
    "            id=\"top-row\",\n",
    "            children=[\n",
    "                html.Div(\n",
    "                    className=\"row\",\n",
    "                    id=\"top-row-header\",\n",
    "                    children=[\n",
    "                        html.Div(\n",
    "                            id=\"header-container\",\n",
    "                            children=[\n",
    "                                build_banner(),\n",
    "                                html.P(\n",
    "                                    id=\"instructions\",\n",
    "                                    children=\"Select data points from the well map, ternary map or bar graph to \"\n",
    "                                    \"visualize cross-filtering to other plots. Selection could be done by \"\n",
    "                                    \"clicking on individual data points or using the lasso tool to capture \"\n",
    "                                    \"multiple data points or bars. With the box tool from modebar, multiple \"\n",
    "                                    \"regions can be selected by holding the SHIFT key while clicking and \"\n",
    "                                    \"dragging.\",\n",
    "                                ),\n",
    "                                build_graph_title(\"Select Operator\"),\n",
    "                                dcc.Dropdown(\n",
    "                                    id=\"operator-select\",\n",
    "                                    options=[\n",
    "                                        {\"label\": i, \"value\": i}\n",
    "                                        for i in df[\"op\"].unique().tolist()\n",
    "                                    ],\n",
    "                                    multi=True,\n",
    "                                    value=[\n",
    "                                        df[\"op\"].unique().tolist()[0],\n",
    "                                        df[\"op\"].unique().tolist()[1],\n",
    "                                    ],\n",
    "                                ),\n",
    "                            ],\n",
    "                        )\n",
    "                    ],\n",
    "                ),\n",
    "                html.Div(\n",
    "                    className=\"row\",\n",
    "                    id=\"top-row-graphs\",\n",
    "                    children=[\n",
    "                        # Well map\n",
    "                        html.Div(\n",
    "                            id=\"well-map-container\",\n",
    "                            children=[\n",
    "                                build_graph_title(\"Well Map\"),\n",
    "                                dcc.RadioItems(\n",
    "                                    id=\"mapbox-view-selector\",\n",
    "                                    options=[\n",
    "                                        {\"label\": \"basic\", \"value\": \"basic\"},\n",
    "                                        {\"label\": \"satellite\", \"value\": \"satellite\"},\n",
    "                                        {\"label\": \"outdoors\", \"value\": \"outdoors\"},\n",
    "                                        {\n",
    "                                            \"label\": \"satellite-street\",\n",
    "                                            \"value\": \"mapbox://styles/mapbox/satellite-streets-v9\",\n",
    "                                        },\n",
    "                                    ],\n",
    "                                    value=\"basic\",\n",
    "                                ),\n",
    "                                dcc.Graph(\n",
    "                                    id=\"well-map\",\n",
    "                                    figure={\n",
    "                                        \"layout\": {\n",
    "                                            \"paper_bgcolor\": \"#192444\",\n",
    "                                            \"plot_bgcolor\": \"#192444\",\n",
    "                                        }\n",
    "                                    },\n",
    "                                    config={\"scrollZoom\": True, \"displayModeBar\": True},\n",
    "                                ),\n",
    "                            ],\n",
    "                        ),\n",
    "                        # Ternary map\n",
    "                        html.Div(\n",
    "                            id=\"ternary-map-container\",\n",
    "                            children=[\n",
    "                                html.Div(\n",
    "                                    id=\"ternary-header\",\n",
    "                                    children=[\n",
    "                                        build_graph_title(\n",
    "                                            \"Shale Mineralogy Composition\"\n",
    "                                        ),\n",
    "                                        dcc.Checklist(\n",
    "                                            id=\"ternary-layer-select\",\n",
    "                                            options=[\n",
    "                                                {\n",
    "                                                    \"label\": \"Well Data\",\n",
    "                                                    \"value\": \"Well Data\",\n",
    "                                                },\n",
    "                                                {\n",
    "                                                    \"label\": \"Rock Type\",\n",
    "                                                    \"value\": \"Rock Type\",\n",
    "                                                },\n",
    "                                            ],\n",
    "                                            value=[\"Well Data\", \"Rock Type\"],\n",
    "                                        ),\n",
    "                                    ],\n",
    "                                ),\n",
    "                                dcc.Graph(\n",
    "                                    id=\"ternary-map\",\n",
    "                                    figure={\n",
    "                                        \"layout\": {\n",
    "                                            \"paper_bgcolor\": \"#192444\",\n",
    "                                            \"plot_bgcolor\": \"#192444\",\n",
    "                                        }\n",
    "                                    },\n",
    "                                    config={\n",
    "                                        \"scrollZoom\": True,\n",
    "                                        \"displayModeBar\": False,\n",
    "                                    },\n",
    "                                ),\n",
    "                            ],\n",
    "                        ),\n",
    "                    ],\n",
    "                ),\n",
    "            ],\n",
    "        ),\n",
    "        html.Div(\n",
    "            className=\"row\",\n",
    "            id=\"bottom-row\",\n",
    "            children=[\n",
    "                # Formation bar plots\n",
    "                html.Div(\n",
    "                    id=\"form-bar-container\",\n",
    "                    className=\"six columns\",\n",
    "                    children=[\n",
    "                        build_graph_title(\"Well count by formations\"),\n",
    "                        dcc.Graph(id=\"form-by-bar\"),\n",
    "                    ],\n",
    "                ),\n",
    "                html.Div(\n",
    "                    # Selected well productions\n",
    "                    id=\"well-production-container\",\n",
    "                    className=\"six columns\",\n",
    "                    children=[\n",
    "                        build_graph_title(\"Individual well annual production\"),\n",
    "                        dcc.Graph(id=\"production-fig\"),\n",
    "                    ],\n",
    "                ),\n",
    "            ],\n",
    "        ),\n",
    "    ]\n",
    ")\n",
    "\n",
    "\n",
    "# Update bar plot\n",
    "@app.callback(\n",
    "    Output(\"form-by-bar\", \"figure\"),\n",
    "    [\n",
    "        Input(\"well-map\", \"selectedData\"),\n",
    "        Input(\"ternary-map\", \"selectedData\"),\n",
    "        Input(\"operator-select\", \"value\"),\n",
    "    ],\n",
    ")\n",
    "\n",
    "\n",
    "\n",
    "# Update ternary map\n",
    "@app.callback(\n",
    "    Output(\"ternary-map\", \"figure\"),\n",
    "    [\n",
    "        Input(\"well-map\", \"selectedData\"),\n",
    "        Input(\"form-by-bar\", \"selectedData\"),\n",
    "        Input(\"form-by-bar\", \"clickData\"),\n",
    "        Input(\"operator-select\", \"value\"),\n",
    "        Input(\"ternary-layer-select\", \"value\"),\n",
    "    ],\n",
    "    state=[State(\"ternary-map\", \"figure\")],\n",
    ")\n",
    "\n",
    "# Update well map\n",
    "@app.callback(\n",
    "    Output(\"well-map\", \"figure\"),\n",
    "    [\n",
    "        Input(\"ternary-map\", \"selectedData\"),\n",
    "        Input(\"form-by-bar\", \"selectedData\"),\n",
    "        Input(\"form-by-bar\", \"clickData\"),\n",
    "        Input(\"operator-select\", \"value\"),\n",
    "        Input(\"mapbox-view-selector\", \"value\"),\n",
    "    ],\n",
    ")\n",
    "\n",
    "\n",
    "\n",
    "# Update production plot\n",
    "@app.callback(\n",
    "    Output(\"production-fig\", \"figure\"),\n",
    "    [\n",
    "        Input(\"well-map\", \"selectedData\"),\n",
    "        Input(\"ternary-map\", \"selectedData\"),\n",
    "        Input(\"form-by-bar\", \"selectedData\"),\n",
    "        Input(\"operator-select\", \"value\"),\n",
    "    ],\n",
    ")\n",
    "\n",
    "\n",
    "\n",
    "# Running the server\n",
    "if __name__ == \"__main__\":\n",
    "    app.run_server(debug=True)"
   ]
  },
  {
   "cell_type": "code",
   "execution_count": null,
   "id": "dc0c484c",
   "metadata": {},
   "outputs": [],
   "source": []
  }
 ],
 "metadata": {
  "kernelspec": {
   "display_name": "Python [conda env:root] *",
   "language": "python",
   "name": "conda-root-py"
  },
  "language_info": {
   "codemirror_mode": {
    "name": "ipython",
    "version": 3
   },
   "file_extension": ".py",
   "mimetype": "text/x-python",
   "name": "python",
   "nbconvert_exporter": "python",
   "pygments_lexer": "ipython3",
   "version": "3.8.8"
  }
 },
 "nbformat": 4,
 "nbformat_minor": 5
}
